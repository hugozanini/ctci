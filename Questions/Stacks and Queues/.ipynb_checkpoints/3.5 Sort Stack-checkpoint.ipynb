{
 "cells": [
  {
   "cell_type": "code",
   "execution_count": 35,
   "metadata": {},
   "outputs": [],
   "source": [
    "class Stack:\n",
    "    def __init__(self):\n",
    "        self.stack = []\n",
    "    \n",
    "    def push(self, value):\n",
    "        if self.stack == None:\n",
    "            return False\n",
    "        else:\n",
    "            self.stack.append(value)\n",
    "            return True\n",
    "    \n",
    "    def pop(self):\n",
    "        if not self.stack:\n",
    "            return False\n",
    "        else:\n",
    "            return self.stack.pop()\n",
    "    \n",
    "    def peak(self):\n",
    "        if not self.stack:\n",
    "            return False\n",
    "        else:\n",
    "            return self.stack[-1]\n",
    "    \n",
    "    def isEmpty(self):\n",
    "        if not self.stack:\n",
    "            return True  \n",
    "        else:\n",
    "            return False"
   ]
  },
  {
   "cell_type": "code",
   "execution_count": 59,
   "metadata": {},
   "outputs": [],
   "source": [
    "def sortStack(stack1):\n",
    "    stack2 = Stack()\n",
    "    \n",
    "    while not stack1.isEmpty():\n",
    "        popped = stack1.pop()\n",
    "\n",
    "        while(not stack2.isEmpty() and stack2.peak() > popped):\n",
    "            stack1.push(stack2.pop())\n",
    "        stack2.push(popped)\n",
    "        \n",
    "    return stack2"
   ]
  },
  {
   "cell_type": "code",
   "execution_count": 51,
   "metadata": {},
   "outputs": [],
   "source": [
    "stack1 = Stack()\n",
    "stack1.push(1)"
   ]
  },
  {
   "cell_type": "code",
   "execution_count": 58,
   "metadata": {},
   "outputs": [
    {
     "data": {
      "text/plain": [
       "[4, 2, 8, 9, 3, 1]"
      ]
     },
     "execution_count": 58,
     "metadata": {},
     "output_type": "execute_result"
    }
   ],
   "source": [
    "stack1.stack"
   ]
  },
  {
   "cell_type": "code",
   "execution_count": 60,
   "metadata": {},
   "outputs": [],
   "source": [
    "stack3 = sortStack(stack1)"
   ]
  },
  {
   "cell_type": "code",
   "execution_count": 61,
   "metadata": {},
   "outputs": [
    {
     "data": {
      "text/plain": [
       "[1, 2, 3, 4, 8, 9]"
      ]
     },
     "execution_count": 61,
     "metadata": {},
     "output_type": "execute_result"
    }
   ],
   "source": [
    "stack3.stack"
   ]
  }
 ],
 "metadata": {
  "kernelspec": {
   "display_name": "Python 3",
   "language": "python",
   "name": "python3"
  },
  "language_info": {
   "codemirror_mode": {
    "name": "ipython",
    "version": 3
   },
   "file_extension": ".py",
   "mimetype": "text/x-python",
   "name": "python",
   "nbconvert_exporter": "python",
   "pygments_lexer": "ipython3",
   "version": "3.7.1"
  }
 },
 "nbformat": 4,
 "nbformat_minor": 2
}
