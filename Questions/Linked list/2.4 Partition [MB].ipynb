{
 "cells": [
  {
   "cell_type": "code",
   "execution_count": 79,
   "metadata": {},
   "outputs": [],
   "source": [
    "class Node:\n",
    "    def __init__(self, dataval = None):\n",
    "        self.dataval = dataval\n",
    "        self.nextval = None\n",
    "\n",
    "class LinkedList:\n",
    "    def __init__(self):\n",
    "        self.headval = None\n",
    "    \n",
    "    def insertEnd(self, newdata):\n",
    "        newNode = Node(newdata)\n",
    "        \n",
    "        if self.headval is None:\n",
    "            self.headval = newNode\n",
    "            return\n",
    "        else:\n",
    "            laste = self.headval\n",
    "            while(laste.nextval is not None):\n",
    "                laste = laste.nextval\n",
    "            laste.nextval = newNode\n",
    "            \n",
    "    def joinLL(self, list2):\n",
    "        \n",
    "        laste = self.headval\n",
    "        while(laste.nextval is not None):\n",
    "            laste = laste.nextval\n",
    "        \n",
    "        laste.nextval = list2.headval\n",
    "    \n",
    "    def listprint(self):\n",
    "        printval = self.headval\n",
    "        while printval is not None:\n",
    "            print(printval.dataval)\n",
    "            printval = printval.nextval\n",
    "    "
   ]
  },
  {
   "cell_type": "code",
   "execution_count": 85,
   "metadata": {},
   "outputs": [],
   "source": [
    "def partitionll(ll, x):\n",
    "    item = ll.headval\n",
    "    left_ll = LinkedList()\n",
    "    right_ll = LinkedList()\n",
    "    \n",
    "    while item is not None:\n",
    "        if(item.dataval < x):\n",
    "            left_ll.insertEnd(item.dataval)\n",
    "        else:\n",
    "            right_ll.insertEnd(item.dataval)\n",
    "        \n",
    "        item = item.nextval\n",
    "        \n",
    "    left_ll.joinLL(right_ll)\n",
    "    \n",
    "    return left_ll"
   ]
  },
  {
   "cell_type": "code",
   "execution_count": 86,
   "metadata": {},
   "outputs": [],
   "source": [
    "llist = LinkedList()\n",
    "llist.insertEnd(3)\n",
    "llist.insertEnd(5)\n",
    "llist.insertEnd(8)\n",
    "llist.insertEnd(5)\n",
    "llist.insertEnd(10)\n",
    "llist.insertEnd(2)\n",
    "llist.insertEnd(1)"
   ]
  },
  {
   "cell_type": "code",
   "execution_count": 87,
   "metadata": {},
   "outputs": [
    {
     "name": "stdout",
     "output_type": "stream",
     "text": [
      "3\n",
      "5\n",
      "8\n",
      "5\n",
      "10\n",
      "2\n",
      "1\n"
     ]
    }
   ],
   "source": [
    "llist.listprint()"
   ]
  },
  {
   "cell_type": "code",
   "execution_count": 88,
   "metadata": {},
   "outputs": [],
   "source": [
    "new_list = partitionll(llist, 5)"
   ]
  },
  {
   "cell_type": "code",
   "execution_count": 89,
   "metadata": {},
   "outputs": [
    {
     "name": "stdout",
     "output_type": "stream",
     "text": [
      "3\n",
      "2\n",
      "1\n",
      "5\n",
      "8\n",
      "5\n",
      "10\n"
     ]
    }
   ],
   "source": [
    "new_list.listprint()"
   ]
  }
 ],
 "metadata": {
  "kernelspec": {
   "display_name": "Python 3",
   "language": "python",
   "name": "python3"
  },
  "language_info": {
   "codemirror_mode": {
    "name": "ipython",
    "version": 3
   },
   "file_extension": ".py",
   "mimetype": "text/x-python",
   "name": "python",
   "nbconvert_exporter": "python",
   "pygments_lexer": "ipython3",
   "version": "3.7.1"
  }
 },
 "nbformat": 4,
 "nbformat_minor": 2
}
