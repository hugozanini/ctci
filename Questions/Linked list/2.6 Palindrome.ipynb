{
 "cells": [
  {
   "cell_type": "code",
   "execution_count": 1,
   "metadata": {},
   "outputs": [],
   "source": [
    "class Node:\n",
    "    def __init__(self, dataval = None):\n",
    "        self.dataval = dataval\n",
    "        self.nextval = None\n",
    "\n",
    "class LinkedList:\n",
    "    def __init__(self):\n",
    "        self.headval = None\n",
    "    \n",
    "    def insertEnd(self, newdata):\n",
    "        newNode = Node(newdata)\n",
    "        \n",
    "        if self.headval is None:\n",
    "            self.headval = newNode\n",
    "            return\n",
    "        else:\n",
    "            laste = self.headval\n",
    "            while(laste.nextval is not None):\n",
    "                laste = laste.nextval\n",
    "            laste.nextval = newNode\n",
    "            \n",
    "    def joinLL(self, list2):\n",
    "        \n",
    "        laste = self.headval\n",
    "        while(laste.nextval is not None):\n",
    "            laste = laste.nextval\n",
    "        \n",
    "        laste.nextval = list2.headval\n",
    "    \n",
    "    def listprint(self):\n",
    "        printval = self.headval\n",
    "        while printval is not None:\n",
    "            print(printval.dataval)\n",
    "            printval = printval.nextval"
   ]
  },
  {
   "cell_type": "code",
   "execution_count": 50,
   "metadata": {},
   "outputs": [],
   "source": [
    "llist = LinkedList()\n",
    "llist.insertEnd(3)\n",
    "llist.insertEnd(5)\n",
    "llist.insertEnd(5)\n",
    "llist.insertEnd(2)"
   ]
  },
  {
   "cell_type": "code",
   "execution_count": 51,
   "metadata": {},
   "outputs": [],
   "source": [
    "def checkPalindrome(llist):\n",
    "    liste = llist.headval\n",
    "    stack = []\n",
    "\n",
    "    while liste:\n",
    "        stack.append(liste.dataval)\n",
    "        liste = liste.nextval\n",
    "\n",
    "    liste = llist.headval\n",
    "\n",
    "    while liste:\n",
    "        if(liste.dataval != stack.pop()):\n",
    "            return False\n",
    "        liste = liste.nextval\n",
    "    return True"
   ]
  },
  {
   "cell_type": "code",
   "execution_count": 52,
   "metadata": {},
   "outputs": [
    {
     "data": {
      "text/plain": [
       "False"
      ]
     },
     "execution_count": 52,
     "metadata": {},
     "output_type": "execute_result"
    }
   ],
   "source": [
    "checkPalindrome(llist)"
   ]
  }
 ],
 "metadata": {
  "kernelspec": {
   "display_name": "Python 3",
   "language": "python",
   "name": "python3"
  },
  "language_info": {
   "codemirror_mode": {
    "name": "ipython",
    "version": 3
   },
   "file_extension": ".py",
   "mimetype": "text/x-python",
   "name": "python",
   "nbconvert_exporter": "python",
   "pygments_lexer": "ipython3",
   "version": "3.7.1"
  }
 },
 "nbformat": 4,
 "nbformat_minor": 2
}
