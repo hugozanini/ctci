{
 "cells": [
  {
   "cell_type": "code",
   "execution_count": 3,
   "metadata": {},
   "outputs": [],
   "source": [
    "class Node:\n",
    "    def __init__(self, dataval = None):\n",
    "        self.dataval = dataval\n",
    "        self.nextval = None\n",
    "\n",
    "class LinkedList:\n",
    "    def __init__(self):\n",
    "        self.headvalue = None\n",
    "    \n",
    "    def listprint(self):\n",
    "        printval = self.headvalue\n",
    "        while printval is not None:\n",
    "            print(printval.dataval)\n",
    "            printval = printval.nextval"
   ]
  },
  {
   "cell_type": "markdown",
   "metadata": {},
   "source": [
    "### Hugo Solution"
   ]
  },
  {
   "cell_type": "code",
   "execution_count": 129,
   "metadata": {},
   "outputs": [],
   "source": [
    "def kthElement(lkd_list, kth):\n",
    "    cnt = 0\n",
    "    item = lkd_list.headvalue\n",
    "    linkedlist = lkd_list\n",
    "    \n",
    "    if item is None:\n",
    "        return\n",
    "    \n",
    "    \n",
    "    while item is not None:\n",
    "        cnt +=1\n",
    "        if cnt == kth:\n",
    "            linkedlist.headvalue = item\n",
    "            linkedlist.headvalue.nextval = item.nextval\n",
    "            break\n",
    "\n",
    "        else:\n",
    "            item = item.nextval\n",
    "        \n",
    "        \n",
    "    \n",
    "    return linkedlist\n"
   ]
  },
  {
   "cell_type": "code",
   "execution_count": 156,
   "metadata": {},
   "outputs": [],
   "source": [
    "lkd_list = LinkedList()\n",
    "lkd_list.headvalue = Node('Mon')\n",
    "\n",
    "e2 = Node('Tue')\n",
    "e3 = Node('Wed')\n",
    "e4 = Node('Thu')\n",
    "e5 = Node('Fri')\n",
    "\n",
    "lkd_list.headvalue.nextval = e2\n",
    "e2.nextval = e3\n",
    "e3.nextval = e4\n",
    "e4.nextval = e5"
   ]
  },
  {
   "cell_type": "code",
   "execution_count": 140,
   "metadata": {},
   "outputs": [
    {
     "name": "stdout",
     "output_type": "stream",
     "text": [
      "Mon\n",
      "Tue\n",
      "Wed\n",
      "Thu\n",
      "Fri\n"
     ]
    }
   ],
   "source": [
    "lkd_list.listprint()"
   ]
  },
  {
   "cell_type": "code",
   "execution_count": 132,
   "metadata": {},
   "outputs": [],
   "source": [
    "a = kthElement(lkd_list, 3)"
   ]
  },
  {
   "cell_type": "code",
   "execution_count": 133,
   "metadata": {},
   "outputs": [
    {
     "name": "stdout",
     "output_type": "stream",
     "text": [
      "Wed\n",
      "Thu\n",
      "Fri\n"
     ]
    }
   ],
   "source": [
    "a.listprint()"
   ]
  }
 ],
 "metadata": {
  "kernelspec": {
   "display_name": "Python 3",
   "language": "python",
   "name": "python3"
  },
  "language_info": {
   "codemirror_mode": {
    "name": "ipython",
    "version": 3
   },
   "file_extension": ".py",
   "mimetype": "text/x-python",
   "name": "python",
   "nbconvert_exporter": "python",
   "pygments_lexer": "ipython3",
   "version": "3.7.1"
  }
 },
 "nbformat": 4,
 "nbformat_minor": 2
}
