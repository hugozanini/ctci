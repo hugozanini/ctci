{
 "cells": [
  {
   "cell_type": "code",
   "execution_count": 1,
   "metadata": {},
   "outputs": [],
   "source": [
    "class ListNode:\n",
    "    def __init__(self, x):\n",
    "        self.val = x\n",
    "        self.next = None"
   ]
  },
  {
   "cell_type": "code",
   "execution_count": 10,
   "metadata": {},
   "outputs": [],
   "source": [
    "def addTwoNumbers(l1, l2):\n",
    "    result = ListNode(0)\n",
    "    result_tail = result\n",
    "    carry = 0\n",
    "    \n",
    "    while l1 or l2 or carry:\n",
    "        val1 = (l1.val if l1 else 0)\n",
    "        val2 = (l2.val if l2 else 0)\n",
    "        \n",
    "        carry, out = divmod(val1 + val2 + carry, 10)\n",
    "        \n",
    "        result_tail.next = ListNode(out)\n",
    "        result_tail = result_tail.next\n",
    "        \n",
    "        l1 = (l1.next if l1 else None)\n",
    "        l2 = (l2.next if l2 else None)\n",
    "    \n",
    "    return result.next    "
   ]
  },
  {
   "cell_type": "code",
   "execution_count": 11,
   "metadata": {},
   "outputs": [],
   "source": [
    "numb1 = ListNode(7)\n",
    "numb1.next = ListNode(1)\n",
    "numb1.next.next = ListNode(6)"
   ]
  },
  {
   "cell_type": "code",
   "execution_count": 12,
   "metadata": {},
   "outputs": [],
   "source": [
    "numb2 = ListNode(5)\n",
    "numb2.next = ListNode(9)\n",
    "numb2.next.next = ListNode(2)"
   ]
  },
  {
   "cell_type": "code",
   "execution_count": 13,
   "metadata": {},
   "outputs": [],
   "source": [
    "resultados = addTwoNumbers(numb1, numb2)"
   ]
  }
 ],
 "metadata": {
  "kernelspec": {
   "display_name": "Python 3",
   "language": "python",
   "name": "python3"
  },
  "language_info": {
   "codemirror_mode": {
    "name": "ipython",
    "version": 3
   },
   "file_extension": ".py",
   "mimetype": "text/x-python",
   "name": "python",
   "nbconvert_exporter": "python",
   "pygments_lexer": "ipython3",
   "version": "3.7.1"
  }
 },
 "nbformat": 4,
 "nbformat_minor": 2
}
