{
 "cells": [
  {
   "cell_type": "code",
   "execution_count": 66,
   "metadata": {},
   "outputs": [],
   "source": [
    "class Node:\n",
    "    def __init__(self, dataval = None):\n",
    "        self.dataval = dataval\n",
    "        self.nextval = None\n",
    "\n",
    "class LinkedList:\n",
    "    def __init__(self):\n",
    "        self.headvalue = None\n",
    "        \n",
    "        # Function to remove node\n",
    "    def RemoveNode(self, Removekey):\n",
    "        \n",
    "        HeadVal = self.headvalue\n",
    "        \n",
    "        # Nothing to remove\n",
    "        if (HeadVal == None):\n",
    "            return\n",
    "        \n",
    "        # Removing headvalue\n",
    "        if(HeadVal is not None):\n",
    "            if(HeadVal.dataval == Removekey):\n",
    "                self.headvalue = HeadVal.nextval\n",
    "                HeadVal = None\n",
    "                return\n",
    "        \n",
    "        # Finding the value do remove\n",
    "        while (HeadVal is not None):\n",
    "            if HeadVal.dataval == Removekey:\n",
    "                break\n",
    "                # The program found the value to remove\n",
    "            prev = HeadVal\n",
    "            HeadVal = HeadVal.nextval\n",
    "        \n",
    "        # I'm jumping the value to remove and seting\n",
    "        # the pointer of the previous element to the next\n",
    "        # node after the node to be removed\n",
    "        prev.nextval = HeadVal.nextval\n",
    "        \n",
    "        # Filling the HeadValue with None\n",
    "        HeadVal = None  \n",
    "        \n",
    "    def listprint(self):\n",
    "        printval = self.headvalue\n",
    "        while printval is not None:\n",
    "            print(printval.dataval)\n",
    "            printval = printval.nextval"
   ]
  },
  {
   "cell_type": "code",
   "execution_count": 84,
   "metadata": {},
   "outputs": [],
   "source": [
    "def removeDup(lkd_list):\n",
    "    stored_val =  set()\n",
    "    item = lkd_list.headvalue \n",
    "\n",
    "\n",
    "    while item is not None:\n",
    "        if(item.dataval not in stored_val):\n",
    "            stored_val.add(item.dataval)\n",
    "        else:\n",
    "            lkd_list.RemoveNode(item.dataval)\n",
    "\n",
    "        item = item.nextval\n",
    "    \n",
    "    return lkd_list"
   ]
  },
  {
   "cell_type": "code",
   "execution_count": 85,
   "metadata": {},
   "outputs": [],
   "source": [
    "lkd_list = LinkedList()\n",
    "lkd_list.headvalue = Node('Mon')\n",
    "\n",
    "e2 = Node('Tue')\n",
    "e3 = Node('Wed')\n",
    "e4 = Node('Mon')\n",
    "e5 = Node('Mon')\n",
    "\n",
    "lkd_list.headvalue.nextval = e2\n",
    "e2.nextval = e3\n",
    "e3.nextval = e4\n",
    "e4.nextval = e5"
   ]
  },
  {
   "cell_type": "code",
   "execution_count": 86,
   "metadata": {},
   "outputs": [
    {
     "name": "stdout",
     "output_type": "stream",
     "text": [
      "Mon\n",
      "Tue\n",
      "Wed\n",
      "Mon\n",
      "Mon\n"
     ]
    }
   ],
   "source": [
    "lkd_list.listprint()"
   ]
  },
  {
   "cell_type": "code",
   "execution_count": 87,
   "metadata": {},
   "outputs": [],
   "source": [
    "lkd_list = removeDup(lkd_list)"
   ]
  },
  {
   "cell_type": "code",
   "execution_count": 88,
   "metadata": {},
   "outputs": [
    {
     "name": "stdout",
     "output_type": "stream",
     "text": [
      "Tue\n",
      "Wed\n",
      "Mon\n"
     ]
    }
   ],
   "source": [
    "lkd_list.listprint()"
   ]
  },
  {
   "cell_type": "code",
   "execution_count": null,
   "metadata": {},
   "outputs": [],
   "source": []
  }
 ],
 "metadata": {
  "kernelspec": {
   "display_name": "Python 3",
   "language": "python",
   "name": "python3"
  },
  "language_info": {
   "codemirror_mode": {
    "name": "ipython",
    "version": 3
   },
   "file_extension": ".py",
   "mimetype": "text/x-python",
   "name": "python",
   "nbconvert_exporter": "python",
   "pygments_lexer": "ipython3",
   "version": "3.7.1"
  }
 },
 "nbformat": 4,
 "nbformat_minor": 2
}
