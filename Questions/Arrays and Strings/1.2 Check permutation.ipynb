{
 "cells": [
  {
   "cell_type": "code",
   "execution_count": 18,
   "metadata": {},
   "outputs": [],
   "source": [
    "string1 = \"arca\"\n",
    "string2 = \"cara\"\n",
    "string3 = \"carai\""
   ]
  },
  {
   "cell_type": "code",
   "execution_count": 10,
   "metadata": {},
   "outputs": [],
   "source": [
    "# First solution\n",
    "def isPermutation(string1, string2):\n",
    "    \n",
    "    string1 = ''.join(sorted(string1))\n",
    "    string2 = ''.join(sorted(string2))\n",
    "    \n",
    "    if string1 == string2:\n",
    "        return True\n",
    "    else:\n",
    "        return False"
   ]
  },
  {
   "cell_type": "code",
   "execution_count": 17,
   "metadata": {},
   "outputs": [
    {
     "data": {
      "text/plain": [
       "False"
      ]
     },
     "execution_count": 17,
     "metadata": {},
     "output_type": "execute_result"
    }
   ],
   "source": [
    "isPermutation(string1,string2)"
   ]
  },
  {
   "cell_type": "code",
   "execution_count": 13,
   "metadata": {},
   "outputs": [],
   "source": [
    "string1 = ''.join(sorted(string1))"
   ]
  },
  {
   "cell_type": "markdown",
   "metadata": {},
   "source": [
    "### Questions\n",
    "\n",
    "* Are they ASCII or Unicode string?\n",
    "* Is it case sensitive? Is dog a permutation of God?\n",
    "* Is it whitespace significant? So \"god    \" is diferrent from \"dog\"?\n",
    "\n",
    "### Runtime\n",
    "O(n Logn): The sorted method used in python is the Timsort and it has this complexity. See more: https://en.wikipedia.org/wiki/Timsort "
   ]
  },
  {
   "cell_type": "markdown",
   "metadata": {},
   "source": [
    "Threating special cases"
   ]
  },
  {
   "cell_type": "code",
   "execution_count": 37,
   "metadata": {},
   "outputs": [],
   "source": [
    "# Second solution\n",
    "def isPermutation(string1, string2):\n",
    "    \n",
    "    string1 = string1.replace(\" \", \"\")\n",
    "    string1 = string1.lower()\n",
    "    string1 = ''.join(sorted(string1))\n",
    "    \n",
    "    string2 = string2.replace(\" \", \"\")\n",
    "    string2 = string2.lower()\n",
    "    string2 = ''.join(sorted(string2))\n",
    "    \n",
    "    if string1 == string2:\n",
    "        return True\n",
    "    else:\n",
    "        return False"
   ]
  },
  {
   "cell_type": "code",
   "execution_count": 42,
   "metadata": {},
   "outputs": [],
   "source": [
    "string1 = \"arCa   \"\n",
    "string2 = \"C arA\""
   ]
  },
  {
   "cell_type": "code",
   "execution_count": 43,
   "metadata": {},
   "outputs": [
    {
     "data": {
      "text/plain": [
       "True"
      ]
     },
     "execution_count": 43,
     "metadata": {},
     "output_type": "execute_result"
    }
   ],
   "source": [
    "isPermutation(string1, string2)"
   ]
  },
  {
   "cell_type": "markdown",
   "metadata": {},
   "source": [
    "### Attention: always make the sorted method last because the other functions can return the string in a different order"
   ]
  }
 ],
 "metadata": {
  "kernelspec": {
   "display_name": "Python 3",
   "language": "python",
   "name": "python3"
  },
  "language_info": {
   "codemirror_mode": {
    "name": "ipython",
    "version": 3
   },
   "file_extension": ".py",
   "mimetype": "text/x-python",
   "name": "python",
   "nbconvert_exporter": "python",
   "pygments_lexer": "ipython3",
   "version": "3.7.1"
  }
 },
 "nbformat": 4,
 "nbformat_minor": 2
}
