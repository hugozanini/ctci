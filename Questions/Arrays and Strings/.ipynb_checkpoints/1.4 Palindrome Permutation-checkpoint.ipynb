{
 "cells": [
  {
   "cell_type": "code",
   "execution_count": 1,
   "metadata": {},
   "outputs": [],
   "source": [
    "# O(N)\n",
    "import unittest\n",
    "\n",
    "\n",
    "def pal_perm(phrase):\n",
    "    '''function checks if a string is a permutation of a palindrome or not'''\n",
    "    table = [0 for _ in range(ord('z') - ord('a') + 1)]\n",
    "    countodd = 0\n",
    "    for c in phrase:\n",
    "        x = char_number(c)\n",
    "        if x != -1:\n",
    "            table[x] += 1\n",
    "            if table[x] % 2:\n",
    "                countodd += 1\n",
    "            else:\n",
    "                countodd -= 1\n",
    "\n",
    "    return countodd <= 1"
   ]
  },
  {
   "cell_type": "code",
   "execution_count": 2,
   "metadata": {},
   "outputs": [],
   "source": [
    "def char_number(c):\n",
    "    a = ord('a')\n",
    "    z = ord('z')\n",
    "    A = ord('A')\n",
    "    Z = ord('Z')\n",
    "    val = ord(c)\n",
    "\n",
    "    if a <= val <= z:\n",
    "        return val - a\n",
    "    elif A <= val <= Z:\n",
    "        return val - A\n",
    "    return -1"
   ]
  },
  {
   "cell_type": "code",
   "execution_count": 8,
   "metadata": {},
   "outputs": [
    {
     "name": "stdout",
     "output_type": "stream",
     "text": [
      "True\n"
     ]
    }
   ],
   "source": [
    "if __name__ == \"__main__\":\n",
    "    print(pal_perm('Tact Coa'))"
   ]
  },
  {
   "cell_type": "markdown",
   "metadata": {},
   "source": [
    "### Best Solution"
   ]
  },
  {
   "cell_type": "markdown",
   "metadata": {},
   "source": [
    "In order for a string to be a palindrome, then every letter is mirrored around the center of the string. That means a collection of letters can form a palindrome if there is at most one letter that has an odd count."
   ]
  },
  {
   "cell_type": "code",
   "execution_count": 11,
   "metadata": {},
   "outputs": [
    {
     "name": "stdout",
     "output_type": "stream",
     "text": [
      "['m', 'r', 'o', 'w', 'l', 'a', 't', 'e', 'm', 'y', 'm', 'e', 't', 'a', 'l', 'w', 'o', 'r', 'm']\n"
     ]
    }
   ],
   "source": [
    "# Converting string to lower case and remove the nonaplha characters\n",
    "myString = \"Mr. owl ate my Metal worm\"\n",
    "alpha_chars_only = [x for x in myString.lower() if x.isalpha()]\n",
    "\n",
    "print(alpha_chars_only)"
   ]
  },
  {
   "cell_type": "code",
   "execution_count": 12,
   "metadata": {},
   "outputs": [
    {
     "name": "stdout",
     "output_type": "stream",
     "text": [
      "Counter({'m': 4, 'r': 2, 'o': 2, 'w': 2, 'l': 2, 'a': 2, 't': 2, 'e': 2, 'y': 1})\n"
     ]
    }
   ],
   "source": [
    "# Counting each letter using collections.Counter\n",
    "\n",
    "from collections import Counter \n",
    "counts = Counter(alpha_chars_only)\n",
    "print(counts)"
   ]
  },
  {
   "cell_type": "markdown",
   "metadata": {},
   "source": [
    "Finally count the number of letters that have an odd count. If the count is 0 or 1, a palindrome must be possible."
   ]
  },
  {
   "cell_type": "code",
   "execution_count": 13,
   "metadata": {},
   "outputs": [
    {
     "name": "stdout",
     "output_type": "stream",
     "text": [
      "1\n"
     ]
    }
   ],
   "source": [
    "number_of_odd = sum(1 for letter, cnt in counts.items() if cnt%2)\n",
    "print(number_of_odd)"
   ]
  },
  {
   "cell_type": "markdown",
   "metadata": {},
   "source": [
    "### Creating the function"
   ]
  },
  {
   "cell_type": "code",
   "execution_count": 14,
   "metadata": {},
   "outputs": [],
   "source": [
    "def isPalindrome(myString):\n",
    "    alpha_chars_only = [x for x in myString.lower() if x.isalpha()]\n",
    "    counts = Counter(alpha_chars_only)\n",
    "    number_of_odd = sum(1 for letter, cnt in counts.items() if cnt%2)\n",
    "    return number_of_odd <= 1"
   ]
  },
  {
   "cell_type": "code",
   "execution_count": 17,
   "metadata": {},
   "outputs": [
    {
     "name": "stdout",
     "output_type": "stream",
     "text": [
      "True\n"
     ]
    }
   ],
   "source": [
    "if __name__ == \"__main__\":\n",
    "    print(isPalindrome('Tact Coa'))"
   ]
  },
  {
   "cell_type": "code",
   "execution_count": 21,
   "metadata": {},
   "outputs": [
    {
     "data": {
      "text/plain": [
       "Counter({'m': 4,\n",
       "         'r': 2,\n",
       "         'o': 2,\n",
       "         'w': 2,\n",
       "         'l': 2,\n",
       "         'a': 2,\n",
       "         't': 2,\n",
       "         'e': 2,\n",
       "         'y': 1})"
      ]
     },
     "execution_count": 21,
     "metadata": {},
     "output_type": "execute_result"
    }
   ],
   "source": [
    "counts[1]"
   ]
  },
  {
   "cell_type": "code",
   "execution_count": 27,
   "metadata": {},
   "outputs": [
    {
     "name": "stdout",
     "output_type": "stream",
     "text": [
      "a\n"
     ]
    }
   ],
   "source": [
    "if 4%3:\n",
    "    print ('a')"
   ]
  },
  {
   "cell_type": "code",
   "execution_count": 23,
   "metadata": {},
   "outputs": [
    {
     "data": {
      "text/plain": [
       "dict_items([('m', 4), ('r', 2), ('o', 2), ('w', 2), ('l', 2), ('a', 2), ('t', 2), ('e', 2), ('y', 1)])"
      ]
     },
     "execution_count": 23,
     "metadata": {},
     "output_type": "execute_result"
    }
   ],
   "source": [
    "counts.items()"
   ]
  },
  {
   "cell_type": "markdown",
   "metadata": {},
   "source": [
    "### Questions\n",
    "\n",
    "Should the outputs be split in 4 and 3 like in the example? \n"
   ]
  },
  {
   "cell_type": "markdown",
   "metadata": {},
   "source": [
    "Runtime: O(2n)"
   ]
  },
  {
   "cell_type": "code",
   "execution_count": null,
   "metadata": {},
   "outputs": [],
   "source": []
  }
 ],
 "metadata": {
  "kernelspec": {
   "display_name": "Python 3",
   "language": "python",
   "name": "python3"
  },
  "language_info": {
   "codemirror_mode": {
    "name": "ipython",
    "version": 3
   },
   "file_extension": ".py",
   "mimetype": "text/x-python",
   "name": "python",
   "nbconvert_exporter": "python",
   "pygments_lexer": "ipython3",
   "version": "3.7.1"
  }
 },
 "nbformat": 4,
 "nbformat_minor": 2
}
