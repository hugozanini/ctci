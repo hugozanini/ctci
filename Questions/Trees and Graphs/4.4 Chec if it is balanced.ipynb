{
 "cells": [
  {
   "cell_type": "code",
   "execution_count": 28,
   "metadata": {},
   "outputs": [],
   "source": [
    "class NodeT:\n",
    "    def __init__(self, data):\n",
    "        self.left = None\n",
    "        self.right = None\n",
    "        self.data = data\n",
    "        \n",
    "    def insert(self, data):\n",
    "        if self.data is not None:\n",
    "            if data < self.data:\n",
    "                if self.left is None:\n",
    "                    self.left = NodeT(data)\n",
    "\n",
    "                else:\n",
    "                    self.left.insert(data)\n",
    "\n",
    "            elif data > self.data:\n",
    "                if self.right is None:\n",
    "                    self.right = NodeT(data)\n",
    "                else:\n",
    "                    self.right.insert(data)\n",
    "        else:\n",
    "            self.data = data\n",
    "        \n",
    "    def PrintTree(self):\n",
    "        # The function will print all nodes using recursion\n",
    "            if self.left is not None:\n",
    "                self.left.PrintTree()\n",
    "\n",
    "            print(self.data)\n",
    "\n",
    "            if self.right is not None:\n",
    "                self.right.PrintTree()"
   ]
  },
  {
   "cell_type": "code",
   "execution_count": 29,
   "metadata": {},
   "outputs": [],
   "source": [
    "# function to find height of binary tree \n",
    "def height(root): \n",
    "      \n",
    "    # base condition when binary tree is empty \n",
    "    if root is None: \n",
    "        return 0\n",
    "    return max(height(root.left), height(root.right)) + 1"
   ]
  },
  {
   "cell_type": "code",
   "execution_count": 30,
   "metadata": {},
   "outputs": [],
   "source": [
    "# function to check if tree is height-balanced or not\n",
    "def isBalanced(root): \n",
    "      \n",
    "    # Base condition \n",
    "    if root is None: \n",
    "        return True\n",
    "  \n",
    "    # for left and right subtree height \n",
    "    lh = height(root.left) \n",
    "    rh = height(root.right) \n",
    "  \n",
    "    # allowed values for (lh - rh) are 1, -1, 0 \n",
    "    if (abs(lh - rh) <= 1) and isBalanced( \n",
    "    root.left) is True and isBalanced( root.right) is True: \n",
    "        return True\n",
    "  \n",
    "    # if we reach here means tree is not  \n",
    "    # height-balanced tree \n",
    "    return False"
   ]
  },
  {
   "cell_type": "code",
   "execution_count": 38,
   "metadata": {},
   "outputs": [],
   "source": [
    "root = NodeT(7)\n",
    "root.insert(6)\n",
    "root.insert(8)\n",
    "root.insert(3)\n",
    "root.insert(5)"
   ]
  },
  {
   "cell_type": "code",
   "execution_count": 39,
   "metadata": {},
   "outputs": [
    {
     "name": "stdout",
     "output_type": "stream",
     "text": [
      "3\n",
      "5\n",
      "6\n",
      "7\n",
      "8\n"
     ]
    }
   ],
   "source": [
    "root.PrintTree()"
   ]
  },
  {
   "cell_type": "code",
   "execution_count": 40,
   "metadata": {},
   "outputs": [
    {
     "data": {
      "text/plain": [
       "False"
      ]
     },
     "execution_count": 40,
     "metadata": {},
     "output_type": "execute_result"
    }
   ],
   "source": [
    "isBalanced(root)"
   ]
  },
  {
   "cell_type": "code",
   "execution_count": null,
   "metadata": {},
   "outputs": [],
   "source": []
  }
 ],
 "metadata": {
  "kernelspec": {
   "display_name": "Python 3",
   "language": "python",
   "name": "python3"
  },
  "language_info": {
   "codemirror_mode": {
    "name": "ipython",
    "version": 3
   },
   "file_extension": ".py",
   "mimetype": "text/x-python",
   "name": "python",
   "nbconvert_exporter": "python",
   "pygments_lexer": "ipython3",
   "version": "3.7.1"
  }
 },
 "nbformat": 4,
 "nbformat_minor": 2
}
