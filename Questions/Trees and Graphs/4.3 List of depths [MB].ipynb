{
 "cells": [
  {
   "cell_type": "code",
   "execution_count": 29,
   "metadata": {},
   "outputs": [],
   "source": [
    "class Nodell:\n",
    "    def __init__(self, dataval = None):\n",
    "        self.dataval = dataval\n",
    "        self.nextval = None\n",
    "\n",
    "class LinkedList:\n",
    "    def __init__(self):\n",
    "        self.headvalue = None\n",
    "    \n",
    "    # Printing the linked list \n",
    "    def listprint(self):\n",
    "        printval = self.headvalue\n",
    "        while printval is not None:\n",
    "            print(printval.dataval)\n",
    "            printval = printval.nextval\n",
    "    \n",
    "    # Inserting items at the beginning of the list\n",
    "    def AtBeginning(self, newdata):\n",
    "        NewNode = Nodell(newdata)\n",
    "        NewNode.nextval = self.headvalue\n",
    "        self.headvalue = NewNode\n",
    "    \n",
    "    \n",
    "    # Inserting item at the end of the List\n",
    "    def AtEnd(self, newdata):\n",
    "        NewNode = Nodell(newdata)\n",
    "        \n",
    "        if self.headvalue is None:\n",
    "            self.headvalue = NewNode\n",
    "            return\n",
    "        else:\n",
    "            laste = self.headvalue\n",
    "            while(laste.nextval is not None):\n",
    "                laste = laste.nextval\n",
    "            laste.nextval = NewNode"
   ]
  },
  {
   "cell_type": "code",
   "execution_count": 71,
   "metadata": {},
   "outputs": [],
   "source": [
    "class NodeT:\n",
    "    def __init__(self, data):\n",
    "        self.left = None\n",
    "        self.right = None\n",
    "        self.data = data\n",
    "        \n",
    "    def insert(self, data):\n",
    "        if self.data is not None:\n",
    "            if data < self.data:\n",
    "                if self.left is None:\n",
    "                    self.left = NodeT(data)\n",
    "\n",
    "                else:\n",
    "                    self.left.insert(data)\n",
    "\n",
    "            elif data > self.data:\n",
    "                if self.right is None:\n",
    "                    self.right = NodeT(data)\n",
    "                else:\n",
    "                    self.right.insert(data)\n",
    "        else:\n",
    "            self.data = data\n",
    "            \n",
    "    def PrintTree(self):\n",
    "        # The function will print all nodes using recursion\n",
    "            if self.left is not None:\n",
    "                self.left.PrintTree()\n",
    "\n",
    "            print(self.data)\n",
    "\n",
    "            if self.right is not None:\n",
    "                self.right.PrintTree()"
   ]
  },
  {
   "cell_type": "code",
   "execution_count": null,
   "metadata": {},
   "outputs": [],
   "source": []
  },
  {
   "cell_type": "code",
   "execution_count": 57,
   "metadata": {},
   "outputs": [],
   "source": [
    "def createlevelLL(root, lists, level):\n",
    "    if root is None:\n",
    "        return\n",
    "    listlevel = LinkedList()\n",
    "    \n",
    "    \n",
    "    if len(lists) == level: #level not contained in list\n",
    "        #Create a new list\n",
    "        listlevel.headvalue = Nodell(root.data)\n",
    "        #Append new list to the lists vector\n",
    "        lists.append(listlevel)\n",
    "    else:\n",
    "        # If the list already exists just add a new element\n",
    "        lists[level].AtEnd(root.data)\n",
    "    \n",
    "    createlevelLL(root.left, lists, level + 1)\n",
    "    createlevelLL(root.right, lists, level + 1)"
   ]
  },
  {
   "cell_type": "code",
   "execution_count": 75,
   "metadata": {},
   "outputs": [],
   "source": [
    "root = NodeT(12)\n",
    "root.insert(6)\n",
    "root.insert(14)\n",
    "root.insert(5)\n",
    "root.insert(13)"
   ]
  },
  {
   "cell_type": "code",
   "execution_count": 80,
   "metadata": {},
   "outputs": [
    {
     "data": {
      "text/plain": [
       "5"
      ]
     },
     "execution_count": 80,
     "metadata": {},
     "output_type": "execute_result"
    }
   ],
   "source": [
    "root.left.left.data"
   ]
  },
  {
   "cell_type": "code",
   "execution_count": 58,
   "metadata": {},
   "outputs": [],
   "source": [
    "lists = []\n",
    "level = 0"
   ]
  },
  {
   "cell_type": "code",
   "execution_count": 59,
   "metadata": {},
   "outputs": [],
   "source": [
    "createlevelLL(root, lists, level)"
   ]
  },
  {
   "cell_type": "code",
   "execution_count": 67,
   "metadata": {},
   "outputs": [
    {
     "data": {
      "text/plain": [
       "12"
      ]
     },
     "execution_count": 67,
     "metadata": {},
     "output_type": "execute_result"
    }
   ],
   "source": [
    "lists[0].headvalue.dataval"
   ]
  },
  {
   "cell_type": "code",
   "execution_count": 70,
   "metadata": {},
   "outputs": [
    {
     "name": "stdout",
     "output_type": "stream",
     "text": [
      "5\n",
      "13\n"
     ]
    }
   ],
   "source": [
    "lists[2].listprint()"
   ]
  },
  {
   "cell_type": "code",
   "execution_count": 52,
   "metadata": {},
   "outputs": [
    {
     "data": {
      "text/plain": [
       "0"
      ]
     },
     "execution_count": 52,
     "metadata": {},
     "output_type": "execute_result"
    }
   ],
   "source": [
    "level"
   ]
  }
 ],
 "metadata": {
  "kernelspec": {
   "display_name": "Python 3",
   "language": "python",
   "name": "python3"
  },
  "language_info": {
   "codemirror_mode": {
    "name": "ipython",
    "version": 3
   },
   "file_extension": ".py",
   "mimetype": "text/x-python",
   "name": "python",
   "nbconvert_exporter": "python",
   "pygments_lexer": "ipython3",
   "version": "3.7.1"
  }
 },
 "nbformat": 4,
 "nbformat_minor": 2
}
