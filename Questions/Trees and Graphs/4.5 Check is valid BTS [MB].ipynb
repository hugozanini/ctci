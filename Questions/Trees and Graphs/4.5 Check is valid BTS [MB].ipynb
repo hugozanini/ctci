{
 "cells": [
  {
   "cell_type": "code",
   "execution_count": 9,
   "metadata": {},
   "outputs": [],
   "source": [
    "class NodeT:\n",
    "    def __init__(self, data):\n",
    "        self.left = None\n",
    "        self.right = None\n",
    "        self.data = data\n",
    "        \n",
    "    def insert(self, data):\n",
    "        if self.data is not None:\n",
    "            if data < self.data:\n",
    "                if self.left is None:\n",
    "                    self.left = NodeT(data)\n",
    "\n",
    "                else:\n",
    "                    self.left.insert(data)\n",
    "\n",
    "            elif data > self.data:\n",
    "                if self.right is None:\n",
    "                    self.right = NodeT(data)\n",
    "                else:\n",
    "                    self.right.insert(data)\n",
    "        else:\n",
    "            self.data = data\n",
    "        \n",
    "    def PrintTree(self):\n",
    "        # The function will print all nodes using recursion\n",
    "            if self.left is not None:\n",
    "                self.left.PrintTree()\n",
    "\n",
    "            print(self.data)\n",
    "\n",
    "            if self.right is not None:\n",
    "                self.right.PrintTree()"
   ]
  },
  {
   "cell_type": "code",
   "execution_count": 31,
   "metadata": {},
   "outputs": [],
   "source": [
    "def teste( a, b):\n",
    "    return a and b"
   ]
  },
  {
   "cell_type": "code",
   "execution_count": 42,
   "metadata": {},
   "outputs": [
    {
     "data": {
      "text/plain": [
       "False"
      ]
     },
     "execution_count": 42,
     "metadata": {},
     "output_type": "execute_result"
    }
   ],
   "source": [
    "teste(False,13)"
   ]
  },
  {
   "cell_type": "code",
   "execution_count": 20,
   "metadata": {},
   "outputs": [],
   "source": [
    "def isValidBST(root):\n",
    "    \"\"\"\n",
    "    :type root: TreeNode\n",
    "    :rtype: bool\n",
    "    \"\"\"\n",
    "    import sys\n",
    "        \n",
    "    def helper(node,lowbond, upbond):\n",
    "        # If the tree is empty it is Binary\n",
    "        if not node: \n",
    "            return True\n",
    "        if lowbond < node.data and node.data < upbond:\n",
    "            left = helper(node.left, lowbond, node.data)\n",
    "            right = helper(node.right, node.data, upbond)\n",
    "        else:\n",
    "            return False\n",
    "        \n",
    "        # It should be true on the left and the right side\n",
    "        return left and right\n",
    "        \n",
    "    return helper(root,sys.maxsize * -1, sys.maxsize)"
   ]
  },
  {
   "cell_type": "code",
   "execution_count": 21,
   "metadata": {},
   "outputs": [],
   "source": [
    "root = NodeT(7)\n",
    "root.insert(6)\n",
    "root.insert(8)\n",
    "root.insert(3)\n",
    "root.insert(5)"
   ]
  },
  {
   "cell_type": "code",
   "execution_count": 22,
   "metadata": {},
   "outputs": [
    {
     "data": {
      "text/plain": [
       "True"
      ]
     },
     "execution_count": 22,
     "metadata": {},
     "output_type": "execute_result"
    }
   ],
   "source": [
    "isValidBST(root)"
   ]
  }
 ],
 "metadata": {
  "kernelspec": {
   "display_name": "Python 3",
   "language": "python",
   "name": "python3"
  },
  "language_info": {
   "codemirror_mode": {
    "name": "ipython",
    "version": 3
   },
   "file_extension": ".py",
   "mimetype": "text/x-python",
   "name": "python",
   "nbconvert_exporter": "python",
   "pygments_lexer": "ipython3",
   "version": "3.7.1"
  }
 },
 "nbformat": 4,
 "nbformat_minor": 2
}
