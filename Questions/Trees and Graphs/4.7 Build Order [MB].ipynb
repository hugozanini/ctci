{
 "cells": [
  {
   "cell_type": "code",
   "execution_count": 221,
   "metadata": {},
   "outputs": [],
   "source": [
    "projects = ['a', 'b', 'c', 'd', 'e', 'f']\n",
    "dependencies = [('a','d'), ('f', 'b'), ('b','d'), ('f','a'), ('d','c')]"
   ]
  },
  {
   "cell_type": "code",
   "execution_count": 227,
   "metadata": {},
   "outputs": [],
   "source": [
    "def builtOrder(projects, dependencies):\n",
    "    if len(projects) == 0:\n",
    "        return False\n",
    "    \n",
    "    dep = dependencies.copy()\n",
    "    \n",
    "    #Getting all items with one dependencie\n",
    "    for i in dep:\n",
    "        projectDep.append(i[1])\n",
    "\n",
    "    # Getting the independent values\n",
    "    independents = list(set(projects) - set(projectDep))\n",
    "\n",
    "    #Creating the first layer\n",
    "    layer = set()\n",
    "    for i in independents:\n",
    "        layer.add(i)\n",
    "\n",
    "    #Creating the built vector\n",
    "    built = []\n",
    "    for i in layer:\n",
    "        built.append(i)\n",
    "\n",
    "    layer1 = set()\n",
    "    # I will remove the tuple when I found the dependencie\n",
    "    while len(dep)!= 0:\n",
    "        # Layer is the level of the graph\n",
    "        for i in layer:\n",
    "            #I'm going to search each possible node dependences\n",
    "            for j in dep:\n",
    "                # If i find a tuple that has a dependence equals a node of the previous level \n",
    "                #I'm going to add this dependence as node of the next level and remove the tuple\n",
    "                if j[0] == i:\n",
    "                    #print(j)\n",
    "                    layer1.add(j[1])\n",
    "                    dep.remove(j)\n",
    "\n",
    "        for i in layer1:\n",
    "            built.append(i)\n",
    "        layer = layer1\n",
    "        layer1 = set()\n",
    "    \n",
    "    if len(built) == len(projects):\n",
    "        return built\n",
    "    else:\n",
    "        return False"
   ]
  },
  {
   "cell_type": "code",
   "execution_count": 228,
   "metadata": {},
   "outputs": [
    {
     "data": {
      "text/plain": [
       "['f', 'e', 'a', 'b', 'd', 'c']"
      ]
     },
     "execution_count": 228,
     "metadata": {},
     "output_type": "execute_result"
    }
   ],
   "source": [
    "builtOrder(projects, dependencies)"
   ]
  }
 ],
 "metadata": {
  "kernelspec": {
   "display_name": "Python 3",
   "language": "python",
   "name": "python3"
  },
  "language_info": {
   "codemirror_mode": {
    "name": "ipython",
    "version": 3
   },
   "file_extension": ".py",
   "mimetype": "text/x-python",
   "name": "python",
   "nbconvert_exporter": "python",
   "pygments_lexer": "ipython3",
   "version": "3.7.1"
  }
 },
 "nbformat": 4,
 "nbformat_minor": 2
}
