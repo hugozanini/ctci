{
 "cells": [
  {
   "cell_type": "code",
   "execution_count": 38,
   "metadata": {},
   "outputs": [],
   "source": [
    "def searchRotated(rotatedArray, goal):\n",
    "    mid = (len(rotatedArray) - 1)//2\n",
    "    \n",
    "    #Empty list\n",
    "    if not rotatedArray:\n",
    "        return False\n",
    "    \n",
    "    #Middle value\n",
    "    if(goal == rotatedArray[mid]):\n",
    "        return mid\n",
    "    \n",
    "    if(rotatedArray[mid+1] <= goal <= rotatedArray[-1]):\n",
    "        rotatedArray = rotatedArray[mid+1: -1]\n",
    "        result = mid+1 + bsearch(rotatedArray, goal)\n",
    "        \n",
    "    elif(rotatedArray[0] <= goal <= rotatedArray[mid - 1]):\n",
    "        rotatedArray = rotatedArray[0: mid-1]\n",
    "        result = bsearch(rotatedArray, goal)\n",
    "    \n",
    "    return result"
   ]
  },
  {
   "cell_type": "code",
   "execution_count": 39,
   "metadata": {},
   "outputs": [],
   "source": [
    "def bsearch(rotatedArray, val):\n",
    "    array_size = len(rotatedArray) - 1\n",
    "    idx0 = 0\n",
    "    idxn = array_size\n",
    "    \n",
    "    while idx0 <= idxn:\n",
    "        midval = (idx0 + array_size)//2\n",
    "        if(rotatedArray[midval] == val):\n",
    "            return midval\n",
    "        elif val > list[midval]:\n",
    "            idx0 = midval + 1\n",
    "        else:\n",
    "            idx0= midval - 1"
   ]
  },
  {
   "cell_type": "code",
   "execution_count": 36,
   "metadata": {},
   "outputs": [],
   "source": [
    "test = [15, 16, 19, 20, 25, 1, 3, 4, 5, 7, 10, 14]"
   ]
  },
  {
   "cell_type": "code",
   "execution_count": 40,
   "metadata": {},
   "outputs": [
    {
     "data": {
      "text/plain": [
       "8"
      ]
     },
     "execution_count": 40,
     "metadata": {},
     "output_type": "execute_result"
    }
   ],
   "source": [
    "searchRotated(test,5)"
   ]
  }
 ],
 "metadata": {
  "kernelspec": {
   "display_name": "Python 3",
   "language": "python",
   "name": "python3"
  },
  "language_info": {
   "codemirror_mode": {
    "name": "ipython",
    "version": 3
   },
   "file_extension": ".py",
   "mimetype": "text/x-python",
   "name": "python",
   "nbconvert_exporter": "python",
   "pygments_lexer": "ipython3",
   "version": "3.7.1"
  }
 },
 "nbformat": 4,
 "nbformat_minor": 2
}
