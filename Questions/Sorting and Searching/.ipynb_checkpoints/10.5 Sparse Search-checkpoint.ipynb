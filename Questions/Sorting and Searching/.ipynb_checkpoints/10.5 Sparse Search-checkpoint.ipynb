{
 "cells": [
  {
   "cell_type": "code",
   "execution_count": 14,
   "metadata": {},
   "outputs": [],
   "source": [
    "# Python3 program to implement binary search \n",
    "# in a sparse array \n",
    "\n",
    "def sparseSearch(arr , key , low , high): \n",
    "\n",
    "\tleft = 0; right = 0\n",
    "\t\n",
    "\twhile low <= high: \n",
    "\n",
    "\t\t\tmid = (low + high) // 2\n",
    "\n",
    "\t\t\tif arr[mid] == '': \n",
    "\t\t\t\tleft = mid - 1\n",
    "\t\t\t\tright = mid + 1\n",
    "\n",
    "\t\t\t\t# Check for out of bounds \n",
    "\t\t\t\tif left < low and right > high: \n",
    "\t\t\t\t\t\treturn -1\n",
    "\n",
    "\t\t\t\telif right <= high and arr[right] != '': \n",
    "\t\t\t\t\t\t# Search right \n",
    "\t\t\t\t\t\tmid = right \n",
    "\t\t\t\t\n",
    "\n",
    "\t\t\t\telif left >= low and arr[left] != '': \n",
    "\t\t\t\t\t\t# Search left \n",
    "\t\t\t\t\t\tmid = left \n",
    "\n",
    "\n",
    "\t\t\tif arr[mid] == key: \n",
    "\t\t\t\tprint('Found string {} at index {}'.format\n",
    "\t\t\t\t\t(arr[mid] , mid)) \n",
    "\t\t\t\treturn\n",
    "\n",
    "\t\t\t# Classical Binary search \n",
    "\t\t\t# search left \n",
    "\t\t\telif arr[mid] > key: \n",
    "\t\t\t\thigh = mid - 1\n",
    "\n",
    "\t\t\t# search right \n",
    "\t\t\telif arr[mid] < key: \n",
    "\t\t\t\tlow = mid + 1\n",
    "\t\n",
    "\t\t\tleft -= 1\n",
    "\t\t\tright += 1\n",
    "\n",
    "\treturn -1"
   ]
  },
  {
   "cell_type": "code",
   "execution_count": 15,
   "metadata": {},
   "outputs": [
    {
     "name": "stdout",
     "output_type": "stream",
     "text": [
      "Found string geeks at index 1\n"
     ]
    }
   ],
   "source": [
    "arr = [\"for\", \"geeks\", \"\", \"\", \"\", \"\", \"ide\", \"practice\", \"\", \"\", \"\", \"quiz\"]\n",
    "key = 'geeks'\n",
    "low = 0\n",
    "high = len(arr) - 1\n",
    "\n",
    "sparseSearch(arr , key , low , high) \n",
    "\n",
    "# This is Code contributed by \n",
    "# Ashwin Viswanathan \n"
   ]
  }
 ],
 "metadata": {
  "kernelspec": {
   "display_name": "Python 3",
   "language": "python",
   "name": "python3"
  },
  "language_info": {
   "codemirror_mode": {
    "name": "ipython",
    "version": 3
   },
   "file_extension": ".py",
   "mimetype": "text/x-python",
   "name": "python",
   "nbconvert_exporter": "python",
   "pygments_lexer": "ipython3",
   "version": "3.7.1"
  }
 },
 "nbformat": 4,
 "nbformat_minor": 2
}
