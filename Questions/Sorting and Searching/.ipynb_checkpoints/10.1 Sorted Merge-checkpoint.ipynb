{
 "cells": [
  {
   "cell_type": "code",
   "execution_count": 78,
   "metadata": {},
   "outputs": [],
   "source": [
    "def SortedMerge(A, B):\n",
    "    index = len(A) - 1\n",
    "    indexB = len(B) - 1\n",
    "    indexA = len(A) - len(B) - 1\n",
    "\n",
    "    while indexB >= 0:\n",
    "        if indexA > 0 and A[indexA] > B[indexB]:\n",
    "            A[index] = A[indexA]\n",
    "            indexA -= 1\n",
    "        else:\n",
    "            A[index] = B[indexB]\n",
    "            indexB -= 1\n",
    "        index -= 1\n",
    "    return A\n"
   ]
  },
  {
   "cell_type": "code",
   "execution_count": 79,
   "metadata": {},
   "outputs": [
    {
     "data": {
      "text/plain": [
       "[30, 36, 22, 29]"
      ]
     },
     "execution_count": 79,
     "metadata": {},
     "output_type": "execute_result"
    }
   ],
   "source": [
    "SortedMerge(A, B)"
   ]
  },
  {
   "cell_type": "code",
   "execution_count": 84,
   "metadata": {},
   "outputs": [],
   "source": [
    "A = [1, 4, 7, 10, 13, 0, 0, 0, 0, 0, 0, 0, 0, 0, 0]\n",
    "B = [4, 6, 8, 10, 12, 14, 16, 18, 20, 22]"
   ]
  },
  {
   "cell_type": "code",
   "execution_count": 85,
   "metadata": {},
   "outputs": [
    {
     "data": {
      "text/plain": [
       "[1, 4, 4, 6, 7, 8, 10, 10, 12, 13, 14, 16, 18, 20, 22]"
      ]
     },
     "execution_count": 85,
     "metadata": {},
     "output_type": "execute_result"
    }
   ],
   "source": [
    "SortedMerge(A, B)"
   ]
  }
 ],
 "metadata": {
  "kernelspec": {
   "display_name": "Python 3",
   "language": "python",
   "name": "python3"
  },
  "language_info": {
   "codemirror_mode": {
    "name": "ipython",
    "version": 3
   },
   "file_extension": ".py",
   "mimetype": "text/x-python",
   "name": "python",
   "nbconvert_exporter": "python",
   "pygments_lexer": "ipython3",
   "version": "3.7.1"
  }
 },
 "nbformat": 4,
 "nbformat_minor": 2
}
