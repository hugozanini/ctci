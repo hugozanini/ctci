{
 "cells": [
  {
   "cell_type": "code",
   "execution_count": 31,
   "metadata": {},
   "outputs": [],
   "source": [
    "height = [0,1,0,2,1,0,1,3,2,1,2,1] "
   ]
  },
  {
   "cell_type": "code",
   "execution_count": 119,
   "metadata": {},
   "outputs": [],
   "source": [
    "def findWater(H): \n",
    "    n = len(H)\n",
    "    \n",
    "  \n",
    "    # left[i] contains height of tallest bar to the \n",
    "    # left of i'th bar including itself \n",
    "    left = [0]*n \n",
    "  \n",
    "    # Right [i] contains height of tallest bar to \n",
    "    # the right of ith bar including itself \n",
    "    right = [0]*n \n",
    "  \n",
    "    # Initialize result \n",
    "    water = 0\n",
    "  \n",
    "    # Fill left array \n",
    "    left[0] = H[0] \n",
    "    for i in range( 1, n): \n",
    "        left[i] = max(left[i-1], H[i]) \n",
    "  \n",
    "    # Fill right array \n",
    "    right[n-1] = H[n-1] \n",
    "    for i in range(n-2, -1, -1): \n",
    "        right[i] = max(right[i+1], H[i]); \n",
    "  \n",
    "    # Calculate the accumulated water element by element \n",
    "    # consider the amount of water on i'th bar, the \n",
    "    # amount of water accumulated on this particular \n",
    "    # bar will be equal to min(left[i], right[i]) - arr[i] . \n",
    "    for i in range(0, n): \n",
    "        water += min(left[i],right[i]) - H[i] \n",
    "  \n",
    "    return water "
   ]
  },
  {
   "cell_type": "code",
   "execution_count": 120,
   "metadata": {},
   "outputs": [
    {
     "data": {
      "text/plain": [
       "6"
      ]
     },
     "execution_count": 120,
     "metadata": {},
     "output_type": "execute_result"
    }
   ],
   "source": [
    "findWater(H)"
   ]
  },
  {
   "cell_type": "code",
   "execution_count": 83,
   "metadata": {},
   "outputs": [],
   "source": [
    "total_water = 0\n",
    "n= len(H)-1"
   ]
  },
  {
   "cell_type": "code",
   "execution_count": null,
   "metadata": {},
   "outputs": [],
   "source": [
    "for i in range(1,len(H))"
   ]
  },
  {
   "cell_type": "code",
   "execution_count": 108,
   "metadata": {},
   "outputs": [],
   "source": [
    "i = 10"
   ]
  },
  {
   "cell_type": "code",
   "execution_count": 109,
   "metadata": {},
   "outputs": [],
   "source": [
    "if(H[1:i-1] != []):\n",
    "    l_max = max(H[1:i-1])\n",
    "else:\n",
    "    l_max = 0\n",
    "        \n",
    "if (H[i+1:n] != []):\n",
    "    r_max = max(H[i+1:n])\n",
    "else:\n",
    "    r_max = 0\n",
    "        \n",
    "water_and_building = min(l_max, r_max)\n",
    "\n",
    "if (water_and_building > H[i]):\n",
    "    wi = water_and_building - H[i]\n",
    "else:\n",
    "    wi = water_and_building\n",
    "\n",
    "total_water+= wi"
   ]
  },
  {
   "cell_type": "code",
   "execution_count": 110,
   "metadata": {},
   "outputs": [
    {
     "data": {
      "text/plain": [
       "9"
      ]
     },
     "execution_count": 110,
     "metadata": {},
     "output_type": "execute_result"
    }
   ],
   "source": [
    "total_water"
   ]
  },
  {
   "cell_type": "code",
   "execution_count": null,
   "metadata": {},
   "outputs": [],
   "source": []
  },
  {
   "cell_type": "code",
   "execution_count": 70,
   "metadata": {},
   "outputs": [
    {
     "name": "stdout",
     "output_type": "stream",
     "text": [
      "3\n",
      "0\n",
      "\n",
      "\n",
      "4\n",
      "0\n",
      "\n",
      "\n",
      "5\n",
      "2\n",
      "\n",
      "\n",
      "6\n",
      "1\n",
      "\n",
      "\n",
      "7\n",
      "0\n",
      "\n",
      "\n",
      "8\n",
      "0\n",
      "\n",
      "\n",
      "9\n",
      "1\n",
      "\n",
      "\n"
     ]
    },
    {
     "data": {
      "text/plain": [
       "4"
      ]
     },
     "execution_count": 70,
     "metadata": {},
     "output_type": "execute_result"
    }
   ],
   "source": [
    "getTotalWaterVolume(height)"
   ]
  },
  {
   "cell_type": "code",
   "execution_count": 24,
   "metadata": {},
   "outputs": [],
   "source": [
    "H = height"
   ]
  },
  {
   "cell_type": "code",
   "execution_count": 37,
   "metadata": {},
   "outputs": [],
   "source": [
    "i=11\n",
    "n=11"
   ]
  },
  {
   "cell_type": "code",
   "execution_count": 39,
   "metadata": {},
   "outputs": [
    {
     "name": "stdout",
     "output_type": "stream",
     "text": [
      "ok\n"
     ]
    }
   ],
   "source": [
    "if (H[i+1:n] == []):\n",
    "    print('ok')"
   ]
  },
  {
   "cell_type": "code",
   "execution_count": 6,
   "metadata": {},
   "outputs": [],
   "source": [
    "max_left = 0\n",
    "max_right = 0"
   ]
  },
  {
   "cell_type": "code",
   "execution_count": 9,
   "metadata": {},
   "outputs": [],
   "source": [
    "j=1"
   ]
  },
  {
   "cell_type": "code",
   "execution_count": 10,
   "metadata": {},
   "outputs": [
    {
     "data": {
      "text/plain": [
       "1"
      ]
     },
     "execution_count": 10,
     "metadata": {},
     "output_type": "execute_result"
    }
   ],
   "source": [
    "max_left = max(max_left, height[j])\n",
    "max_left"
   ]
  }
 ],
 "metadata": {
  "kernelspec": {
   "display_name": "Python 3",
   "language": "python",
   "name": "python3"
  },
  "language_info": {
   "codemirror_mode": {
    "name": "ipython",
    "version": 3
   },
   "file_extension": ".py",
   "mimetype": "text/x-python",
   "name": "python",
   "nbconvert_exporter": "python",
   "pygments_lexer": "ipython3",
   "version": "3.7.1"
  }
 },
 "nbformat": 4,
 "nbformat_minor": 2
}
