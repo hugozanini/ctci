{
 "cells": [
  {
   "cell_type": "code",
   "execution_count": 59,
   "metadata": {},
   "outputs": [],
   "source": [
    "nums = [-1, 0, 1, 2, -1, -4]"
   ]
  },
  {
   "cell_type": "code",
   "execution_count": 60,
   "metadata": {},
   "outputs": [],
   "source": [
    "nums_dict = dict.fromkeys(nums, 0)"
   ]
  },
  {
   "cell_type": "code",
   "execution_count": 61,
   "metadata": {},
   "outputs": [
    {
     "data": {
      "text/plain": [
       "-1"
      ]
     },
     "execution_count": 61,
     "metadata": {},
     "output_type": "execute_result"
    }
   ],
   "source": [
    "item = list(nums_dict.keys())[0]\n",
    "item"
   ]
  },
  {
   "cell_type": "code",
   "execution_count": 62,
   "metadata": {},
   "outputs": [
    {
     "data": {
      "text/plain": [
       "1"
      ]
     },
     "execution_count": 62,
     "metadata": {},
     "output_type": "execute_result"
    }
   ],
   "source": [
    "target = 0 - item\n",
    "target"
   ]
  },
  {
   "cell_type": "code",
   "execution_count": 63,
   "metadata": {},
   "outputs": [],
   "source": [
    "result = []\n",
    "for i in range(0,len(nums)):\n",
    "    num = nums[i]\n",
    "    target = 0 - num\n",
    "    \n",
    "    for j in range (i+1, len(nums)):\n",
    "        \n",
    "        for k in range(j+1, len(nums)):\n",
    "            \n",
    "            if(nums[j] + nums[k]) == target:\n",
    "                res = [nums[i],nums[j],nums[k]]\n",
    "                res.sort()\n",
    "                \n",
    "                if res not in result:\n",
    "                    result.append(res)        "
   ]
  },
  {
   "cell_type": "code",
   "execution_count": 64,
   "metadata": {},
   "outputs": [
    {
     "data": {
      "text/plain": [
       "[[-1, 0, 1], [-1, -1, 2]]"
      ]
     },
     "execution_count": 64,
     "metadata": {},
     "output_type": "execute_result"
    }
   ],
   "source": [
    "result"
   ]
  },
  {
   "cell_type": "markdown",
   "metadata": {},
   "source": [
    "Woked but very slow"
   ]
  },
  {
   "cell_type": "code",
   "execution_count": 89,
   "metadata": {},
   "outputs": [
    {
     "data": {
      "text/plain": [
       "[-1, 0, 1, 2, -1, -4]"
      ]
     },
     "execution_count": 89,
     "metadata": {},
     "output_type": "execute_result"
    }
   ],
   "source": [
    "nums"
   ]
  },
  {
   "cell_type": "code",
   "execution_count": 88,
   "metadata": {},
   "outputs": [
    {
     "name": "stdout",
     "output_type": "stream",
     "text": [
      "0\n",
      "-1\n",
      "1\n",
      "0\n",
      "2\n",
      "1\n",
      "3\n",
      "2\n",
      "4\n",
      "-1\n",
      "5\n",
      "-4\n"
     ]
    }
   ],
   "source": [
    "for idx, num in enumerate(nums):\n",
    "    print(idx)\n",
    "    print(num)"
   ]
  },
  {
   "cell_type": "code",
   "execution_count": 91,
   "metadata": {},
   "outputs": [],
   "source": [
    "ans = set()"
   ]
  },
  {
   "cell_type": "code",
   "execution_count": 102,
   "metadata": {},
   "outputs": [],
   "source": [
    "twoSum(nums, 4)"
   ]
  },
  {
   "cell_type": "code",
   "execution_count": 101,
   "metadata": {},
   "outputs": [],
   "source": [
    "def twoSum(nums, idx):\n",
    "        s = set()\n",
    "        target = nums[idx]\n",
    "\t\t#You only need to check the number after the idx\n",
    "\t\t#Since the numbers before the idx have been checked already.\n",
    "        for idx2, num2 in enumerate(nums[idx+1:]):\n",
    "            if -(target+num2) in s:\n",
    "\t\t\t\t#target is always the smallest number, since you only \n",
    "\t\t\t\t#check numbers larget than the target\n",
    "\t\t\t\t#-(target+num2) is always smaller then num2 otherwise it \n",
    "\t\t\t\t#won't be in the s.\n",
    "\t\t\t\t#you need to use tuple since list is not hashable\n",
    "                ans.add((target, -(target+num2), num2))\n",
    "            else:\n",
    "                s.add(num2)"
   ]
  },
  {
   "cell_type": "code",
   "execution_count": 139,
   "metadata": {},
   "outputs": [
    {
     "data": {
      "text/plain": [
       "[-4, -1, -1, 0, 1, 2]"
      ]
     },
     "execution_count": 139,
     "metadata": {},
     "output_type": "execute_result"
    }
   ],
   "source": [
    "sorted(nums)"
   ]
  },
  {
   "cell_type": "code",
   "execution_count": 147,
   "metadata": {},
   "outputs": [],
   "source": [
    "class Solution(object):\n",
    "    def twoSum(self, nums, idx, ans):\n",
    "        s = set()\n",
    "        target = nums[idx]\n",
    "        print('target: ', target)\n",
    "\t\t#You only need to check the number after the idx\n",
    "\t\t#Since the numbers before the idx have been checked already.\n",
    "        for idx2, num2 in enumerate(nums[idx+1:]):\n",
    "            if 0-(target+num2) in s:\n",
    "\t\t\t\t#target is always the smallest number, since you only \n",
    "\t\t\t\t#check numbers larger than the target\n",
    "\t\t\t\t# 0-(target+num2) is always smaller then num2 otherwise it \n",
    "\t\t\t\t#won't be in the s.\n",
    "\t\t\t\t#you need to use tuple since list is not hashable\n",
    "                print('0-(target+num2): ', 0-(target+num2))\n",
    "                ans.add((target, 0 -(target+num2), num2))\n",
    "                print('ans: ', ans)\n",
    "            else:\n",
    "                s.add(num2)\n",
    "        print('s: ', s)\n",
    "        print('\\n')\n",
    "    \n",
    "    def threeSum(self, nums):\n",
    "        \"\"\"\n",
    "        :type nums: List[int]\n",
    "        :rtype: List[List[int]]\n",
    "        \"\"\"\n",
    "        ans = set()\n",
    "        nums = sorted(nums)\n",
    "\n",
    "        if len(nums)<3:\n",
    "            return []\n",
    "        for idx, num in enumerate(nums):\n",
    "\t\t\t#We only need unique number to do the work,\n",
    "\t\t\t#We don't need every number!\n",
    "            if idx > 0 and num==nums[idx-1]:\n",
    "                continue\n",
    "            print(\"twosum: \")\n",
    "            print('idx: ', idx)\n",
    "            print('ans: ', ans)\n",
    "            print('\\n')\n",
    "            self.twoSum(nums, idx, ans)\n",
    "\t\t#map the ans back to list\n",
    "        return map(list,ans)       "
   ]
  },
  {
   "cell_type": "code",
   "execution_count": 148,
   "metadata": {},
   "outputs": [],
   "source": [
    "test = Solution()"
   ]
  },
  {
   "cell_type": "code",
   "execution_count": 149,
   "metadata": {},
   "outputs": [
    {
     "data": {
      "text/plain": [
       "[-4, -1, -1, 0, 1, 2]"
      ]
     },
     "execution_count": 149,
     "metadata": {},
     "output_type": "execute_result"
    }
   ],
   "source": [
    "sorted(nums)"
   ]
  },
  {
   "cell_type": "code",
   "execution_count": 150,
   "metadata": {},
   "outputs": [
    {
     "name": "stdout",
     "output_type": "stream",
     "text": [
      "twosum: \n",
      "idx:  0\n",
      "ans:  set()\n",
      "\n",
      "\n",
      "target:  -4\n",
      "s:  {0, 1, 2, -1}\n",
      "\n",
      "\n",
      "twosum: \n",
      "idx:  1\n",
      "ans:  set()\n",
      "\n",
      "\n",
      "target:  -1\n",
      "0-(target+num2):  0\n",
      "ans:  {(-1, 0, 1)}\n",
      "0-(target+num2):  -1\n",
      "ans:  {(-1, -1, 2), (-1, 0, 1)}\n",
      "s:  {0, -1}\n",
      "\n",
      "\n",
      "twosum: \n",
      "idx:  3\n",
      "ans:  {(-1, -1, 2), (-1, 0, 1)}\n",
      "\n",
      "\n",
      "target:  0\n",
      "s:  {1, 2}\n",
      "\n",
      "\n",
      "twosum: \n",
      "idx:  4\n",
      "ans:  {(-1, -1, 2), (-1, 0, 1)}\n",
      "\n",
      "\n",
      "target:  1\n",
      "s:  {2}\n",
      "\n",
      "\n",
      "twosum: \n",
      "idx:  5\n",
      "ans:  {(-1, -1, 2), (-1, 0, 1)}\n",
      "\n",
      "\n",
      "target:  2\n",
      "s:  set()\n",
      "\n",
      "\n",
      "[[-1, -1, 2], [-1, 0, 1]]\n"
     ]
    }
   ],
   "source": [
    "print(list(test.threeSum(nums)))"
   ]
  },
  {
   "cell_type": "code",
   "execution_count": null,
   "metadata": {},
   "outputs": [],
   "source": []
  },
  {
   "cell_type": "code",
   "execution_count": 110,
   "metadata": {},
   "outputs": [
    {
     "ename": "TypeError",
     "evalue": "threeSum() missing 1 required positional argument: 'nums'",
     "output_type": "error",
     "traceback": [
      "\u001b[0;31m---------------------------------------------------------------------------\u001b[0m",
      "\u001b[0;31mTypeError\u001b[0m                                 Traceback (most recent call last)",
      "\u001b[0;32m<ipython-input-110-f9280574bab3>\u001b[0m in \u001b[0;36m<module>\u001b[0;34m\u001b[0m\n\u001b[0;32m----> 1\u001b[0;31m \u001b[0ma\u001b[0m\u001b[0;34m.\u001b[0m\u001b[0mthreeSum\u001b[0m\u001b[0;34m(\u001b[0m\u001b[0mnums\u001b[0m\u001b[0;34m)\u001b[0m\u001b[0;34m\u001b[0m\u001b[0;34m\u001b[0m\u001b[0m\n\u001b[0m",
      "\u001b[0;31mTypeError\u001b[0m: threeSum() missing 1 required positional argument: 'nums'"
     ]
    }
   ],
   "source": [
    "a.threeSum(nums)"
   ]
  }
 ],
 "metadata": {
  "kernelspec": {
   "display_name": "Python 3",
   "language": "python",
   "name": "python3"
  },
  "language_info": {
   "codemirror_mode": {
    "name": "ipython",
    "version": 3
   },
   "file_extension": ".py",
   "mimetype": "text/x-python",
   "name": "python",
   "nbconvert_exporter": "python",
   "pygments_lexer": "ipython3",
   "version": "3.7.1"
  }
 },
 "nbformat": 4,
 "nbformat_minor": 2
}
