{
 "cells": [
  {
   "cell_type": "code",
   "execution_count": 4,
   "metadata": {},
   "outputs": [],
   "source": [
    "class Node:\n",
    "    def __init__(self, dataval = None):\n",
    "        self.dataval = dataval\n",
    "        self.nextval = None\n",
    "        \n",
    "class LinkedList:\n",
    "    def __init(self):\n",
    "        self.headval = None"
   ]
  },
  {
   "cell_type": "code",
   "execution_count": 24,
   "metadata": {},
   "outputs": [],
   "source": [
    "def reverseLinkedList(llist):\n",
    "    #Initializing values\n",
    "    prev = None\n",
    "    curr = llist.headval\n",
    "    nextll = curr.nextval\n",
    "    \n",
    "    #Looping\n",
    "    while curr:\n",
    "        #Reverse the link\n",
    "        curr.nextval = prev\n",
    "        \n",
    "        #Move to the next node\n",
    "        prev = curr\n",
    "        curr = nextll\n",
    "        \n",
    "        if nextll:\n",
    "            nextll = nextll.nextval\n",
    "            \n",
    "    llist.headval = prev"
   ]
  },
  {
   "cell_type": "code",
   "execution_count": 25,
   "metadata": {},
   "outputs": [],
   "source": [
    "llist = LinkedList()\n",
    "llist.headval = Node(4)\n",
    "\n",
    "e2 = Node(2)\n",
    "e3 = Node(3)\n",
    "\n",
    "llist.headval.nextval = e2\n",
    "e2.nextval = e3"
   ]
  },
  {
   "cell_type": "code",
   "execution_count": 30,
   "metadata": {},
   "outputs": [],
   "source": [
    "reverseLinkedList(llist)"
   ]
  },
  {
   "cell_type": "code",
   "execution_count": 35,
   "metadata": {},
   "outputs": [
    {
     "data": {
      "text/plain": [
       "4"
      ]
     },
     "execution_count": 35,
     "metadata": {},
     "output_type": "execute_result"
    }
   ],
   "source": [
    "llist.headval.nextval.nextval.dataval"
   ]
  }
 ],
 "metadata": {
  "kernelspec": {
   "display_name": "Python 3",
   "language": "python",
   "name": "python3"
  },
  "language_info": {
   "codemirror_mode": {
    "name": "ipython",
    "version": 3
   },
   "file_extension": ".py",
   "mimetype": "text/x-python",
   "name": "python",
   "nbconvert_exporter": "python",
   "pygments_lexer": "ipython3",
   "version": "3.7.1"
  }
 },
 "nbformat": 4,
 "nbformat_minor": 2
}
