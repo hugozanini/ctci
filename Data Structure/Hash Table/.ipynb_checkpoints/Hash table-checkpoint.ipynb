{
 "cells": [
  {
   "cell_type": "markdown",
   "metadata": {},
   "source": [
    "### Implemenent the below function"
   ]
  },
  {
   "cell_type": "markdown",
   "metadata": {},
   "source": [
    "Input: A list/ array with integers. For example: [3, 4, 1 , 2, 9]\n",
    "\n",
    "Returns:\n",
    "\n",
    "Nothing. However, this function will print out a pair of number that adds up to 10. For example, 1,9. If no such pair is found, it should print ('There is no pair that adds up to 10')"
   ]
  },
  {
   "cell_type": "code",
   "execution_count": 5,
   "metadata": {},
   "outputs": [],
   "source": [
    "def pair10(given_list):\n",
    "    numbers_seen = {}\n",
    "    \n",
    "    for item in given_list:\n",
    "        if(10-item) in numbers_seen:\n",
    "            print(str(10 - item) + ',' + str(item))\n",
    "            return\n",
    "        else:\n",
    "            numbers_seen[item] = 1\n",
    "    \n",
    "    print('There is no pair that adds up to 10')"
   ]
  },
  {
   "cell_type": "code",
   "execution_count": 6,
   "metadata": {},
   "outputs": [
    {
     "name": "stdout",
     "output_type": "stream",
     "text": [
      "1,9\n"
     ]
    }
   ],
   "source": [
    "pair10([3,4,1,2,9])"
   ]
  },
  {
   "cell_type": "code",
   "execution_count": 7,
   "metadata": {},
   "outputs": [],
   "source": [
    "given_list = [3,4,1,2,9]"
   ]
  },
  {
   "cell_type": "code",
   "execution_count": 10,
   "metadata": {},
   "outputs": [],
   "source": [
    "numbers_seen = {}"
   ]
  },
  {
   "cell_type": "code",
   "execution_count": 11,
   "metadata": {},
   "outputs": [
    {
     "name": "stdout",
     "output_type": "stream",
     "text": [
      "1,9\n"
     ]
    }
   ],
   "source": [
    "for item in given_list:\n",
    "        if(10-item) in numbers_seen:\n",
    "            print(str(10 - item) + ',' + str(item))\n",
    "            break\n",
    "        else:\n",
    "            numbers_seen[item] = 1"
   ]
  },
  {
   "cell_type": "code",
   "execution_count": 12,
   "metadata": {},
   "outputs": [
    {
     "data": {
      "text/plain": [
       "{3: 1, 4: 1, 1: 1, 2: 1}"
      ]
     },
     "execution_count": 12,
     "metadata": {},
     "output_type": "execute_result"
    }
   ],
   "source": [
    "numbers_seen"
   ]
  },
  {
   "cell_type": "markdown",
   "metadata": {},
   "source": [
    "### Standard Implementation"
   ]
  },
  {
   "cell_type": "markdown",
   "metadata": {},
   "source": [
    "Creating the hash table as a nested list (lists inside a list)."
   ]
  },
  {
   "cell_type": "code",
   "execution_count": 14,
   "metadata": {},
   "outputs": [
    {
     "name": "stdout",
     "output_type": "stream",
     "text": [
      "[[], [], [], [], [], [], [], [], [], []]\n"
     ]
    }
   ],
   "source": [
    "hash_table = [[] for _ in range(10)]\n",
    "print (hash_table)"
   ]
  },
  {
   "cell_type": "markdown",
   "metadata": {},
   "source": [
    "Inserting data into the hash table"
   ]
  },
  {
   "cell_type": "code",
   "execution_count": 15,
   "metadata": {},
   "outputs": [],
   "source": [
    "def insert(hash_table, key, value):\n",
    "    hash_key = hash(key) % len(hash_table)\n",
    "    key_exists = False\n",
    "    bucket = hash_table[hash_key]    \n",
    "    for i, kv in enumerate(bucket):\n",
    "        k, v = kv\n",
    "        if key == k:\n",
    "            key_exists = True \n",
    "            break\n",
    "    if key_exists:\n",
    "        bucket[i] = ((key, value))\n",
    "    else:\n",
    "        bucket.append((key, value))"
   ]
  },
  {
   "cell_type": "code",
   "execution_count": 25,
   "metadata": {},
   "outputs": [
    {
     "name": "stdout",
     "output_type": "stream",
     "text": [
      "[[(10, 'Nepal'), (20, 'India')], [], [], [], [], [(25, 'USA')], [], [], [], []]\n"
     ]
    }
   ],
   "source": [
    "insert(hash_table, 10, 'Nepal')\n",
    "insert(hash_table, 25, 'USA')\n",
    "insert(hash_table, 20, 'India')\n",
    "print (hash_table)"
   ]
  },
  {
   "cell_type": "markdown",
   "metadata": {},
   "source": [
    "Search data from the hash table"
   ]
  },
  {
   "cell_type": "code",
   "execution_count": 27,
   "metadata": {},
   "outputs": [],
   "source": [
    "def search(hash_table, key):\n",
    "    hash_key = hash(key) % len(hash_table)    \n",
    "    bucket = hash_table[hash_key]\n",
    "    for i, kv in enumerate(bucket):\n",
    "        k, v = kv\n",
    "        if key == k:\n",
    "            return v"
   ]
  },
  {
   "cell_type": "code",
   "execution_count": 28,
   "metadata": {},
   "outputs": [
    {
     "name": "stdout",
     "output_type": "stream",
     "text": [
      "Nepal\n",
      "India\n",
      "None\n"
     ]
    }
   ],
   "source": [
    "print (search(hash_table, 10)) # Output: Nepal\n",
    "print (search(hash_table, 20)) # Output: India\n",
    "print (search(hash_table, 30)) # Output: None"
   ]
  },
  {
   "cell_type": "markdown",
   "metadata": {},
   "source": [
    "Delete Data from the Hash Table"
   ]
  },
  {
   "cell_type": "code",
   "execution_count": 29,
   "metadata": {},
   "outputs": [],
   "source": [
    "def delete(hash_table, key):\n",
    "    hash_key = hash(key) % len(hash_table)    \n",
    "    key_exists = False\n",
    "    bucket = hash_table[hash_key]\n",
    "    for i, kv in enumerate(bucket):\n",
    "        k, v = kv \n",
    "        if key == k:\n",
    "            key_exists = True \n",
    "            break\n",
    "    if key_exists:\n",
    "        del bucket[i]\n",
    "        print ('Key {} deleted'.format(key))\n",
    "    else:\n",
    "        print ('Key {} not found'.format(key))"
   ]
  },
  {
   "cell_type": "code",
   "execution_count": 30,
   "metadata": {},
   "outputs": [
    {
     "name": "stdout",
     "output_type": "stream",
     "text": [
      "Key 100 not found\n",
      "[[(10, 'Nepal'), (20, 'India')], [], [], [], [], [(25, 'USA')], [], [], [], []]\n"
     ]
    }
   ],
   "source": [
    "delete(hash_table, 100)\n",
    "print (hash_table)"
   ]
  },
  {
   "cell_type": "code",
   "execution_count": 31,
   "metadata": {},
   "outputs": [
    {
     "name": "stdout",
     "output_type": "stream",
     "text": [
      "Key 10 deleted\n",
      "[[(20, 'India')], [], [], [], [], [(25, 'USA')], [], [], [], []]\n"
     ]
    }
   ],
   "source": [
    "delete(hash_table, 10)\n",
    "print (hash_table)"
   ]
  }
 ],
 "metadata": {
  "kernelspec": {
   "display_name": "Python 3",
   "language": "python",
   "name": "python3"
  },
  "language_info": {
   "codemirror_mode": {
    "name": "ipython",
    "version": 3
   },
   "file_extension": ".py",
   "mimetype": "text/x-python",
   "name": "python",
   "nbconvert_exporter": "python",
   "pygments_lexer": "ipython3",
   "version": "3.7.1"
  }
 },
 "nbformat": 4,
 "nbformat_minor": 2
}
