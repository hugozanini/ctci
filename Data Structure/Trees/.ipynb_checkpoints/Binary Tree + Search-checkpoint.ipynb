{
 "cells": [
  {
   "cell_type": "markdown",
   "metadata": {},
   "source": [
    "# Binary Tree"
   ]
  },
  {
   "cell_type": "markdown",
   "metadata": {},
   "source": [
    " Tree represents the nodes connected by edges. It is a non-linear data strcture. It has the following properties:\n",
    " \n",
    " * One node is marked as Root node\n",
    " * Every node except the root is associated with one parent node\n",
    " * Each node can have an arbitrary number of child node."
   ]
  },
  {
   "cell_type": "markdown",
   "metadata": {},
   "source": [
    "* *left_subtree (keys)  ≤  node (key)  ≤  right_subtree (keys)*"
   ]
  },
  {
   "cell_type": "markdown",
   "metadata": {},
   "source": [
    "**Creating a Node**"
   ]
  },
  {
   "cell_type": "code",
   "execution_count": 27,
   "metadata": {},
   "outputs": [],
   "source": [
    "class Node:\n",
    "    def __init__(self, data):\n",
    "        self.left = None\n",
    "        self.right = None\n",
    "        self.data = data\n",
    "    \n",
    "    def insert(self, data):\n",
    "        # Compare the new value with the parent node\n",
    "        \n",
    "        if self.data is not None:\n",
    "            if data < self.data:\n",
    "                if self.left is None:\n",
    "                    self.left = Node(data)\n",
    "                else:\n",
    "                # If the data to be inserted is less than the\n",
    "                #parent node and there is already a value on the\n",
    "                #left, I will insert a new node under the left node\n",
    "                # to add this value  \n",
    "                    self.left.insert(data)\n",
    "\n",
    "            elif data > self.data:\n",
    "                if self.right is None:\n",
    "                    self.right = Node(data)\n",
    "                else:\n",
    "                    self.right.insert(data)\n",
    "        \n",
    "        else:\n",
    "            self.data = data\n",
    "\n",
    "    def PrintTree(self):\n",
    "    # The function will print all nodes using recursion\n",
    "        if self.left is not None:\n",
    "            self.left.PrintTree()\n",
    "        \n",
    "        print(self.data)\n",
    "        \n",
    "        if self.right is not None:\n",
    "            self.right.PrintTree()"
   ]
  },
  {
   "cell_type": "code",
   "execution_count": 34,
   "metadata": {},
   "outputs": [
    {
     "name": "stdout",
     "output_type": "stream",
     "text": [
      "6\n",
      "12\n"
     ]
    }
   ],
   "source": [
    "root = Node(12)\n",
    "root.insert(6)\n",
    "root.PrintTree()"
   ]
  },
  {
   "cell_type": "code",
   "execution_count": 37,
   "metadata": {},
   "outputs": [
    {
     "name": "stdout",
     "output_type": "stream",
     "text": [
      "3\n",
      "6\n",
      "12\n",
      "14\n",
      "15\n",
      "30\n"
     ]
    }
   ],
   "source": [
    "root.insert(14)\n",
    "root.insert(30)\n",
    "root.insert(15)\n",
    "root.PrintTree()"
   ]
  },
  {
   "cell_type": "markdown",
   "metadata": {},
   "source": [
    "# Searching a value"
   ]
  },
  {
   "cell_type": "code",
   "execution_count": 53,
   "metadata": {},
   "outputs": [],
   "source": [
    "class Node:\n",
    "    def __init__(self, data):\n",
    "        self.left = None\n",
    "        self.right = None\n",
    "        self.data = data\n",
    "    \n",
    "    def insert(self, data):\n",
    "        # Compare the new value with the parent node\n",
    "        \n",
    "        if self.data is not None:\n",
    "            if data < self.data:\n",
    "                if self.left is None:\n",
    "                    self.left = Node(data)\n",
    "                else:\n",
    "                # If the data to be inserted is less than the\n",
    "                #parent node and there is already a value on the\n",
    "                #left, I will insert a new node under the left node\n",
    "                # to add this value  \n",
    "                    self.left.insert(data)\n",
    "\n",
    "            elif data > self.data:\n",
    "                if self.right is None:\n",
    "                    self.right = Node(data)\n",
    "                else:\n",
    "                    self.right.insert(data)\n",
    "        \n",
    "        else:\n",
    "            self.data = data\n",
    "\n",
    "    #Finding a value\n",
    "    def findval(self, lkfval):\n",
    "        \n",
    "        if lkfval < self.data:\n",
    "            if self.left is None:\n",
    "                return str(lkfval) + \" Not Found\" \n",
    "            #Call the function again to search new node\n",
    "            return self.left.findval(lkfval)\n",
    "        \n",
    "        elif lkfval > self.data:\n",
    "            if self.right is None:\n",
    "                return str(lkfval) + \" Not Found\"\n",
    "            #Call the function again to search new node\n",
    "            return self.right.findval(lkfval)\n",
    "        \n",
    "        else:\n",
    "            return str(self.data)+ \" Found\"\n",
    "            \n",
    "            \n",
    "\n",
    "            \n",
    "    def PrintTree(self):\n",
    "    # The function will print all nodes using recursion\n",
    "        if self.left is not None:\n",
    "            self.left.PrintTree()\n",
    "        \n",
    "        print(self.data)\n",
    "        \n",
    "        if self.right is not None:\n",
    "            self.right.PrintTree()"
   ]
  },
  {
   "cell_type": "code",
   "execution_count": 54,
   "metadata": {},
   "outputs": [
    {
     "name": "stdout",
     "output_type": "stream",
     "text": [
      "3\n",
      "6\n",
      "12\n",
      "14\n",
      "\n",
      "\n",
      "7 Not Found\n",
      "14 Found\n"
     ]
    }
   ],
   "source": [
    "root = Node(12)\n",
    "root.insert(6)\n",
    "root.insert(14)\n",
    "root.insert(3)\n",
    "root.PrintTree()\n",
    "print('\\n')\n",
    "print(root.findval(7))\n",
    "print(root.findval(14))"
   ]
  },
  {
   "cell_type": "code",
   "execution_count": null,
   "metadata": {},
   "outputs": [],
   "source": []
  }
 ],
 "metadata": {
  "kernelspec": {
   "display_name": "Python 3",
   "language": "python",
   "name": "python3"
  },
  "language_info": {
   "codemirror_mode": {
    "name": "ipython",
    "version": 3
   },
   "file_extension": ".py",
   "mimetype": "text/x-python",
   "name": "python",
   "nbconvert_exporter": "python",
   "pygments_lexer": "ipython3",
   "version": "3.7.1"
  }
 },
 "nbformat": 4,
 "nbformat_minor": 2
}
