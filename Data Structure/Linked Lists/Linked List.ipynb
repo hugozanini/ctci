{
 "cells": [
  {
   "cell_type": "markdown",
   "metadata": {},
   "source": [
    "# Linked List"
   ]
  },
  {
   "cell_type": "markdown",
   "metadata": {},
   "source": [
    "A linked list is a sequence of data elements, which are connected together via links. Each data element contains a connection to another data element in form of a pointer. **There is only one link between any two data elements**"
   ]
  },
  {
   "cell_type": "code",
   "execution_count": 1,
   "metadata": {},
   "outputs": [],
   "source": [
    "class Node:\n",
    "    def __init__(self, dataval = None):\n",
    "        self.dataval = dataval\n",
    "        self.nextval = None\n",
    "\n",
    "class SLinkedList:\n",
    "    def __init__(self):\n",
    "        self.headval = None"
   ]
  },
  {
   "cell_type": "code",
   "execution_count": 4,
   "metadata": {},
   "outputs": [],
   "source": [
    "list1 = SLinkedList()\n",
    "\n",
    "list1.headval = Node('Mon')\n",
    "\n",
    "e2 = Node('Tue')\n",
    "e3 = Node('Wed')\n",
    "\n",
    "# Link the first Node to second node\n",
    "list1.headval.nextval = e2\n",
    "\n",
    "# Link the second Node to third node\n",
    "e2.nextval = e3"
   ]
  },
  {
   "cell_type": "markdown",
   "metadata": {},
   "source": [
    "**Traversing a Linked List**"
   ]
  },
  {
   "cell_type": "markdown",
   "metadata": {},
   "source": [
    "Singly linked slists can be traversed in only forward direction starting from the first data element. We simply print the value of the next data element by assigning the pointer of the next node to the current data element"
   ]
  },
  {
   "cell_type": "code",
   "execution_count": 6,
   "metadata": {},
   "outputs": [],
   "source": [
    "class Node:\n",
    "    def __init__(self, dataval = None):\n",
    "        self.dataval = dataval\n",
    "        self.nextval = None\n",
    "\n",
    "class SLinkedList:\n",
    "    \n",
    "    def __init__(self):\n",
    "        self.headval = None\n",
    "        \n",
    "        \n",
    "    def listprint(self):\n",
    "        printval = self.headval\n",
    "        while printval is not None:\n",
    "            print(printval.dataval)\n",
    "            printval = printval.nextval\n",
    "        "
   ]
  },
  {
   "cell_type": "code",
   "execution_count": 7,
   "metadata": {},
   "outputs": [
    {
     "name": "stdout",
     "output_type": "stream",
     "text": [
      "Mon\n",
      "Tue\n",
      "Wed\n"
     ]
    }
   ],
   "source": [
    "list = SLinkedList()\n",
    "list.headval = Node('Mon')\n",
    "e2 = Node('Tue')\n",
    "e3 = Node('Wed')\n",
    "\n",
    "#Link first node to Second node\n",
    "list.headval.nextval = e2\n",
    "\n",
    "#Link second Node to Third node\n",
    "e2.nextval = e3\n",
    "\n",
    "list.listprint()"
   ]
  },
  {
   "cell_type": "markdown",
   "metadata": {},
   "source": [
    "**Insertion in a Linked List**"
   ]
  },
  {
   "cell_type": "markdown",
   "metadata": {},
   "source": [
    "* Inserting at the beginning of the linked list"
   ]
  },
  {
   "cell_type": "code",
   "execution_count": 43,
   "metadata": {},
   "outputs": [],
   "source": [
    "class Node:\n",
    "    def __init__(self, dataval = None):\n",
    "        self.dataval = dataval\n",
    "        self.nextval = None\n",
    "\n",
    "class LinkedList:\n",
    "    def __init__(self):\n",
    "        self.headvalue = None\n",
    "    \n",
    "    #Printing the linked list \n",
    "    def listprint(self):\n",
    "        printval = self.headvalue\n",
    "        while printval is not None:\n",
    "            print(printval.dataval)\n",
    "            printval = printval.nextval\n",
    "    \n",
    "    #Inserting items at the beginning of the list\n",
    "    def AtBeginning(self, newdata):\n",
    "        NewNode = Node(newdata)\n",
    "        NewNode.nextval = self.headvalue\n",
    "        self.headvalue = NewNode\n",
    "    "
   ]
  },
  {
   "cell_type": "code",
   "execution_count": 99,
   "metadata": {},
   "outputs": [
    {
     "name": "stdout",
     "output_type": "stream",
     "text": [
      "Mon\n",
      "Tue\n",
      "Wed\n"
     ]
    }
   ],
   "source": [
    "list = LinkedList()\n",
    "list.headvalue = Node('Mon')\n",
    "\n",
    "e2 = Node('Tue')\n",
    "e3 = Node('Wed')\n",
    "\n",
    "list.headvalue.nextval = e2\n",
    "e2.nextval = e3\n",
    "\n",
    "list.listprint()"
   ]
  },
  {
   "cell_type": "code",
   "execution_count": 45,
   "metadata": {},
   "outputs": [],
   "source": [
    "list.AtBeginning('Sun')"
   ]
  },
  {
   "cell_type": "code",
   "execution_count": 46,
   "metadata": {},
   "outputs": [
    {
     "name": "stdout",
     "output_type": "stream",
     "text": [
      "Sun\n",
      "Mon\n",
      "Tue\n",
      "Wed\n"
     ]
    }
   ],
   "source": [
    "list.listprint()"
   ]
  },
  {
   "cell_type": "markdown",
   "metadata": {},
   "source": [
    "* Inserting at the end of the Linked List"
   ]
  },
  {
   "cell_type": "code",
   "execution_count": 1,
   "metadata": {},
   "outputs": [],
   "source": [
    "class Node:\n",
    "    def __init__(self, dataval = None):\n",
    "        self.dataval = dataval\n",
    "        self.nextval = None\n",
    "\n",
    "class LinkedList:\n",
    "    def __init__(self):\n",
    "        self.headvalue = None\n",
    "    \n",
    "    # Printing the linked list \n",
    "    def listprint(self):\n",
    "        printval = self.headvalue\n",
    "        while printval is not None:\n",
    "            print(printval.dataval)\n",
    "            printval = printval.nextval\n",
    "    \n",
    "    # Inserting items at the beginning of the list\n",
    "    def AtBeginning(self, newdata):\n",
    "        NewNode = Node(newdata)\n",
    "        NewNode.nextval = self.headvalue\n",
    "        self.headvalue = NewNode\n",
    "    \n",
    "    \n",
    "    # Inserting item at the end of the List\n",
    "    def AtEnd(self, newdata):\n",
    "        NewNode = Node(newdata)\n",
    "        \n",
    "        if self.headvalue is None:\n",
    "            self.headvalue = NewNode\n",
    "            return\n",
    "        else:\n",
    "            laste = self.headvalue\n",
    "            while(laste.nextval is not None):\n",
    "                laste = laste.nextval\n",
    "            laste.nextval = NewNode"
   ]
  },
  {
   "cell_type": "code",
   "execution_count": 2,
   "metadata": {},
   "outputs": [],
   "source": [
    "list = LinkedList()\n",
    "list.headvalue = Node(\"Mon\")"
   ]
  },
  {
   "cell_type": "code",
   "execution_count": 3,
   "metadata": {},
   "outputs": [],
   "source": [
    "list.AtEnd(\"Seg\")"
   ]
  },
  {
   "cell_type": "code",
   "execution_count": 4,
   "metadata": {},
   "outputs": [
    {
     "name": "stdout",
     "output_type": "stream",
     "text": [
      "Mon\n",
      "Seg\n"
     ]
    }
   ],
   "source": [
    "list.listprint()"
   ]
  },
  {
   "cell_type": "code",
   "execution_count": 16,
   "metadata": {},
   "outputs": [
    {
     "name": "stdout",
     "output_type": "stream",
     "text": [
      "Mon\n",
      "Tue\n",
      "Wed\n",
      "Thu\n"
     ]
    }
   ],
   "source": [
    "list = LinkedList()\n",
    "list.headvalue = Node(\"Mon\")\n",
    "e2 = Node(\"Tue\")\n",
    "e3 = Node(\"Wed\")\n",
    "\n",
    "list.headvalue.nextval = e2\n",
    "e2.nextval = e3\n",
    "list.AtEnd(\"Thu\")\n",
    "\n",
    "list.listprint()"
   ]
  },
  {
   "cell_type": "markdown",
   "metadata": {},
   "source": [
    "* Inserting in between two Data Nodes"
   ]
  },
  {
   "cell_type": "code",
   "execution_count": 114,
   "metadata": {},
   "outputs": [],
   "source": [
    "class Node:\n",
    "    def __init__(self, dataval = None):\n",
    "        self.dataval = dataval\n",
    "        self.nextval = None\n",
    "\n",
    "class LinkedList:\n",
    "    def __init__(self):\n",
    "        self.headvalue = None\n",
    "    \n",
    "    # Printing the linked list \n",
    "    def listprint(self):\n",
    "        printval = self.headvalue\n",
    "        while printval is not None:\n",
    "            print(printval.dataval)\n",
    "            printval = printval.nextval\n",
    "    \n",
    "    # Inserting items at the beginning of the list\n",
    "    def AtBeginning(self, newdata):\n",
    "        NewNode = Node(newdata)\n",
    "        NewNode.nextval = self.headvalue\n",
    "        self.headvalue = NewNode\n",
    "    \n",
    "    \n",
    "    # Inserting item at the end of the List\n",
    "    def AtEnd(self, newdata):\n",
    "        NewNode = Node(newdata)\n",
    "        \n",
    "        if self.headval is None:\n",
    "            self.headval = NewNode\n",
    "            return\n",
    "        else:\n",
    "            laste = self.headval\n",
    "            while(laste.nextval is not None):\n",
    "                laste = laste.nextval\n",
    "            laste.nextval = NewNode\n",
    "            \n",
    "            \n",
    "    # Inserting between two nodes\n",
    "    def Inbetween(self, middle_node, newdata):\n",
    "        if middle_node is None:\n",
    "            print(\"The mentioned node is abset\")\n",
    "            return\n",
    "        NewNode = Node(newdata)\n",
    "        NewNode.nextval = middle_node.nextval\n",
    "        middle_node.nextval = NewNode\n",
    "        "
   ]
  },
  {
   "cell_type": "code",
   "execution_count": 115,
   "metadata": {},
   "outputs": [
    {
     "name": "stdout",
     "output_type": "stream",
     "text": [
      "Mon\n",
      "Tue\n",
      "Fri\n",
      "Wed\n"
     ]
    }
   ],
   "source": [
    "list = LinkedList()\n",
    "list.headvalue = Node(\"Mon\")\n",
    "e2 = Node(\"Tue\")\n",
    "e3 = Node(\"Wed\")\n",
    "\n",
    "list.headvalue.nextval = e2\n",
    "e2.nextval = e3\n",
    "\n",
    "list.Inbetween(list.headvalue.nextval,\"Fri\")\n",
    "\n",
    "list.listprint()"
   ]
  },
  {
   "cell_type": "markdown",
   "metadata": {},
   "source": [
    "* Removing an Item from a Linked List"
   ]
  },
  {
   "cell_type": "code",
   "execution_count": 126,
   "metadata": {},
   "outputs": [],
   "source": [
    "class Node:\n",
    "    def __init__(self, dataval = None):\n",
    "        self.dataval = dataval\n",
    "        self.nextval = None\n",
    "\n",
    "class LinkedList:\n",
    "    def __init__(self):\n",
    "        self.headvalue = None\n",
    "    \n",
    "    # Printing the linked list \n",
    "    def listprint(self):\n",
    "        printval = self.headvalue\n",
    "        while printval is not None:\n",
    "            print(printval.dataval)\n",
    "            printval = printval.nextval\n",
    "    \n",
    "    # Inserting items at the beginning of the list\n",
    "    def AtBeginning(self, newdata):\n",
    "        NewNode = Node(newdata)\n",
    "        NewNode.nextval = self.headvalue\n",
    "        self.headvalue = NewNode\n",
    "    \n",
    "    \n",
    "    # Inserting item at the end of the List\n",
    "    def AtEnd(self, newdata):\n",
    "        NewNode = Node(newdata)\n",
    "        \n",
    "        if self.headval is None:\n",
    "            self.headval = NewNode\n",
    "            return\n",
    "        else:\n",
    "            laste = self.headval\n",
    "            while(laste.nextval is not None):\n",
    "                laste = laste.nextval\n",
    "            laste.nextval = NewNode\n",
    "            \n",
    "            \n",
    "    # Inserting between two nodes\n",
    "    def Inbetween(self, middle_node, newdata):\n",
    "        if middle_node is None:\n",
    "            print(\"The mentioned node is absent\")\n",
    "            return\n",
    "        NewNode = Node(newdata)\n",
    "        NewNode.nextval = middle_node.nextval\n",
    "        middle_node.nextval = NewNode\n",
    "        \n",
    "    # Function to remove node\n",
    "    def RemoveNode(self, Removekey):\n",
    "        \n",
    "        HeadVal = self.headvalue\n",
    "        \n",
    "        # Nothing to remove\n",
    "        if (HeadVal == None):\n",
    "            return\n",
    "        \n",
    "        # Removing headvalue\n",
    "        if(HeadVal is not None):\n",
    "            if(HeadVal.dataval == Removekey):\n",
    "                self.headvalue = HeadVal.next\n",
    "                HeadVal = None\n",
    "                return\n",
    "        \n",
    "        # Finding the value do remove\n",
    "        while (HeadVal is not None):\n",
    "            if HeadVal.dataval == Removekey:\n",
    "                break\n",
    "                # The program found the value to remove\n",
    "            prev = HeadVal\n",
    "            HeadVal = HeadVal.nextval\n",
    "        \n",
    "        # I'm jumping the value to remove and seting\n",
    "        # the pointer of the previous element to the next\n",
    "        # node after the node to be removed\n",
    "        prev.nextval = HeadVal.nextval\n",
    "        \n",
    "        # Filling the HeadValue with None\n",
    "        HeadVal = None    "
   ]
  },
  {
   "cell_type": "code",
   "execution_count": 132,
   "metadata": {},
   "outputs": [
    {
     "name": "stdout",
     "output_type": "stream",
     "text": [
      "Thu\n",
      "Wed\n",
      "Tue\n",
      "Mon\n",
      "\n",
      "After remove Tue \n",
      "\n",
      "Thu\n",
      "Wed\n",
      "Mon\n"
     ]
    }
   ],
   "source": [
    "llist = LinkedList()\n",
    "llist.AtBeginning(\"Mon\")\n",
    "llist.AtBeginning(\"Tue\")\n",
    "llist.AtBeginning(\"Wed\")\n",
    "llist.AtBeginning(\"Thu\")\n",
    "llist.listprint()\n",
    "print(\"\\nAfter remove Tue \\n\")\n",
    "llist.RemoveNode(\"Tue\")\n",
    "llist.listprint()"
   ]
  },
  {
   "cell_type": "code",
   "execution_count": 19,
   "metadata": {},
   "outputs": [
    {
     "data": {
      "text/plain": [
       "(0, 9)"
      ]
     },
     "execution_count": 19,
     "metadata": {},
     "output_type": "execute_result"
    }
   ],
   "source": [
    "divmod(1+2+6, 10)"
   ]
  },
  {
   "cell_type": "code",
   "execution_count": 26,
   "metadata": {},
   "outputs": [],
   "source": [
    "a = 23//10"
   ]
  },
  {
   "cell_type": "code",
   "execution_count": 27,
   "metadata": {},
   "outputs": [
    {
     "data": {
      "text/plain": [
       "2"
      ]
     },
     "execution_count": 27,
     "metadata": {},
     "output_type": "execute_result"
    }
   ],
   "source": [
    "a"
   ]
  }
 ],
 "metadata": {
  "kernelspec": {
   "display_name": "Python 3",
   "language": "python",
   "name": "python3"
  },
  "language_info": {
   "codemirror_mode": {
    "name": "ipython",
    "version": 3
   },
   "file_extension": ".py",
   "mimetype": "text/x-python",
   "name": "python",
   "nbconvert_exporter": "python",
   "pygments_lexer": "ipython3",
   "version": "3.7.1"
  }
 },
 "nbformat": 4,
 "nbformat_minor": 2
}
