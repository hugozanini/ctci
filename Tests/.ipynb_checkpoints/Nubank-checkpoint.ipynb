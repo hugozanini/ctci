{
 "cells": [
  {
   "cell_type": "markdown",
   "metadata": {},
   "source": [
    "Dois inteiros L e R, imprimir todos os numeros impares entre os dois, incluindo os dois\n"
   ]
  },
  {
   "cell_type": "code",
   "execution_count": 7,
   "metadata": {},
   "outputs": [],
   "source": [
    "def findNumber(arr, k):\n",
    "    new_arr = arr[1:]\n",
    "    for j in new_arr:\n",
    "        if(j == k):\n",
    "            return 'YES'\n",
    "    return 'NO'"
   ]
  },
  {
   "cell_type": "code",
   "execution_count": 12,
   "metadata": {},
   "outputs": [],
   "source": [
    "def oddNumbers(l,r):\n",
    "    for i in range(l,r+1):\n",
    "        if(i%2 !=0):\n",
    "            print(i)"
   ]
  },
  {
   "cell_type": "code",
   "execution_count": 13,
   "metadata": {},
   "outputs": [
    {
     "name": "stdout",
     "output_type": "stream",
     "text": [
      "1\n",
      "3\n",
      "5\n",
      "7\n"
     ]
    }
   ],
   "source": [
    "oddNumbers(1,7)"
   ]
  },
  {
   "cell_type": "markdown",
   "metadata": {},
   "source": [
    "# Sock Merchant"
   ]
  },
  {
   "cell_type": "markdown",
   "metadata": {},
   "source": [
    "Meias precisam ser pareadas por cores. Recebo um array de inteiros e preciso retornar quantos pares de meias são possíveis"
   ]
  },
  {
   "cell_type": "code",
   "execution_count": 44,
   "metadata": {},
   "outputs": [],
   "source": [
    "def sockMerchant(n, ar):\n",
    "    aux = ar\n",
    "    pair = 0\n",
    "    tam = n\n",
    "    \n",
    "    while(tam > 0):\n",
    "        item = aux[0]\n",
    "        #print('Vetor:', aux)\n",
    "        #print('Item: ', item)\n",
    "        aux.pop(0)\n",
    "        #print('Vetor - item: ', aux)\n",
    "        tam-=1\n",
    "\n",
    "        if item in aux:\n",
    "            #print('Pair!')\n",
    "            pair+=1\n",
    "            aux.remove(item)\n",
    "            #print('Vetor - pair: ', aux)\n",
    "            #print('\\n')\n",
    "            tam-=1\n",
    "        #else:\n",
    "            #print('Not Pair')\n",
    "            #print('\\n')\n",
    "    return pair\n"
   ]
  },
  {
   "cell_type": "code",
   "execution_count": 45,
   "metadata": {},
   "outputs": [
    {
     "data": {
      "text/plain": [
       "4"
      ]
     },
     "execution_count": 45,
     "metadata": {},
     "output_type": "execute_result"
    }
   ],
   "source": [
    "sockMerchant(10,[10,20,20,10, 10, 30, 50, 10, 20,20])"
   ]
  },
  {
   "cell_type": "markdown",
   "metadata": {},
   "source": [
    "# Counting Valleys"
   ]
  },
  {
   "cell_type": "markdown",
   "metadata": {},
   "source": [
    "Gary is an avid hiker. He tracks his hikes meticulously, paying close attention to small details like topography. During his last hike he took exactly  steps. For every step he took, he noted if it was an uphill, , or a downhill,  step. Gary's hikes start and end at sea level and each step up or down represents a  unit change in altitude. We define the following terms:\n",
    "\n",
    "A mountain is a sequence of consecutive steps above sea level, starting with a step up from sea level and ending with a step down to sea level.\n",
    "A valley is a sequence of consecutive steps below sea level, starting with a step down from sea level and ending with a step up to sea level."
   ]
  },
  {
   "cell_type": "code",
   "execution_count": 2,
   "metadata": {},
   "outputs": [],
   "source": [
    "s = \"UDDDUDUU\"\n",
    "#path = s.split('U','D')\n",
    "path = list(s)"
   ]
  },
  {
   "cell_type": "code",
   "execution_count": 3,
   "metadata": {},
   "outputs": [],
   "source": [
    "path_num =[]\n",
    "for t in path:\n",
    "    if(t =='U'):\n",
    "        path_num.append(1)\n",
    "    else:\n",
    "        path_num.append(-1)"
   ]
  },
  {
   "cell_type": "code",
   "execution_count": 29,
   "metadata": {},
   "outputs": [
    {
     "data": {
      "text/plain": [
       "[1, -1, -1, -1, 1, -1, 1, 1]"
      ]
     },
     "execution_count": 29,
     "metadata": {},
     "output_type": "execute_result"
    }
   ],
   "source": [
    "path_num"
   ]
  },
  {
   "cell_type": "code",
   "execution_count": 34,
   "metadata": {},
   "outputs": [],
   "source": [
    "n = len(path_num)"
   ]
  },
  {
   "cell_type": "markdown",
   "metadata": {},
   "source": [
    "If Garry's reach the 0 point is the end of a hikking. I just need to know the first move to predict if it is a mountain or a valley:\n",
    "* First movement 1: Mountain\n",
    "* First movement -1: Valley"
   ]
  },
  {
   "cell_type": "code",
   "execution_count": 42,
   "metadata": {},
   "outputs": [
    {
     "data": {
      "text/plain": [
       "-1"
      ]
     },
     "execution_count": 42,
     "metadata": {},
     "output_type": "execute_result"
    }
   ],
   "source": [
    "path_num[0]\n",
    "path_num[1]\n"
   ]
  },
  {
   "cell_type": "code",
   "execution_count": 46,
   "metadata": {},
   "outputs": [
    {
     "data": {
      "text/plain": [
       "0"
      ]
     },
     "execution_count": 46,
     "metadata": {},
     "output_type": "execute_result"
    }
   ],
   "source": [
    "sum(path_num[0:2])"
   ]
  },
  {
   "cell_type": "code",
   "execution_count": 53,
   "metadata": {},
   "outputs": [],
   "source": [
    "def countingValleys(n,s):\n",
    "    a = 0\n",
    "    path_num =[]\n",
    "    valley = 0\n",
    "    mountain = 0\n",
    "    \n",
    "    for t in s:\n",
    "        if(t =='U'):\n",
    "            path_num.append(1)\n",
    "        else:\n",
    "            path_num.append(-1)\n",
    "\n",
    "            \n",
    "    for i in range(0, n):\n",
    "        \n",
    "        if(i == 0):\n",
    "            continue\n",
    "\n",
    "        pathSum = sum(path_num[a:i +1 ])\n",
    "\n",
    "        if(pathSum == 0):\n",
    "            if(path_num[a] == 1):\n",
    "#                 print(\"Mountain\")\n",
    "#                 print(\"A: \", a)\n",
    "#                 print(\"I: \", i)\n",
    "#                 print(\"Sum: \", pathSum)\n",
    "#                 print('\\n')\n",
    "                a = i + 1\n",
    "                mountain += 1\n",
    "\n",
    "            elif(path_num[a] == -1):\n",
    "#                 print(\"Valley\")\n",
    "#                 print(\"A: \", a)\n",
    "#                 print(\"I: \", i)\n",
    "#                 print(\"Sum: \", pathSum)\n",
    "#                 print('\\n')\n",
    "                a = i + 1\n",
    "                valley += 1\n",
    "                \n",
    "    return valley"
   ]
  },
  {
   "cell_type": "code",
   "execution_count": 59,
   "metadata": {},
   "outputs": [
    {
     "data": {
      "text/plain": [
       "2"
      ]
     },
     "execution_count": 59,
     "metadata": {},
     "output_type": "execute_result"
    }
   ],
   "source": [
    "countingValleys(14, \"UDDDUDUUDDDUUU\")"
   ]
  },
  {
   "cell_type": "markdown",
   "metadata": {},
   "source": [
    "# Best solution"
   ]
  },
  {
   "cell_type": "markdown",
   "metadata": {},
   "source": [
    "**Think to solve the problem in the easiest way, you don't need to solve for all cases**"
   ]
  },
  {
   "cell_type": "code",
   "execution_count": 120,
   "metadata": {},
   "outputs": [],
   "source": [
    "caminho = \"DDDUUU\""
   ]
  },
  {
   "cell_type": "code",
   "execution_count": 126,
   "metadata": {},
   "outputs": [],
   "source": [
    "sumP = 0 \n",
    "valley = 0\n",
    "for t in caminho:\n",
    "    if(t =='U'):\n",
    "        sumP += 1\n",
    "        if(sumP == 0):\n",
    "            valley += 1\n",
    "    else:\n",
    "        sumP -= 1"
   ]
  },
  {
   "cell_type": "code",
   "execution_count": 127,
   "metadata": {},
   "outputs": [
    {
     "data": {
      "text/plain": [
       "1"
      ]
     },
     "execution_count": 127,
     "metadata": {},
     "output_type": "execute_result"
    }
   ],
   "source": [
    "valley"
   ]
  },
  {
   "cell_type": "code",
   "execution_count": 122,
   "metadata": {},
   "outputs": [
    {
     "data": {
      "text/plain": [
       "str"
      ]
     },
     "execution_count": 122,
     "metadata": {},
     "output_type": "execute_result"
    }
   ],
   "source": [
    "type(caminho)"
   ]
  },
  {
   "cell_type": "code",
   "execution_count": 124,
   "metadata": {},
   "outputs": [],
   "source": [
    "caminho1 = [\"DDDUUU\"]"
   ]
  },
  {
   "cell_type": "code",
   "execution_count": 125,
   "metadata": {},
   "outputs": [
    {
     "data": {
      "text/plain": [
       "list"
      ]
     },
     "execution_count": 125,
     "metadata": {},
     "output_type": "execute_result"
    }
   ],
   "source": [
    "type(caminho1)"
   ]
  },
  {
   "cell_type": "markdown",
   "metadata": {},
   "source": [
    "# Jumping on the clouds"
   ]
  },
  {
   "cell_type": "markdown",
   "metadata": {},
   "source": [
    "* Consecutively numbered clouds\n",
    "\n",
    "* She can jump from every cumulus who has the number of the current cloud +1 or +2\n",
    "\n",
    "* She must avoid the thunderheads"
   ]
  },
  {
   "cell_type": "markdown",
   "metadata": {},
   "source": [
    "0: Safe clouds\n",
    "\n",
    "1: Should avoid the cloud"
   ]
  },
  {
   "cell_type": "code",
   "execution_count": 162,
   "metadata": {},
   "outputs": [],
   "source": [
    "n = 6\n",
    "c = [0, 0, 0, 0, 1, 0]"
   ]
  },
  {
   "cell_type": "code",
   "execution_count": 163,
   "metadata": {},
   "outputs": [
    {
     "data": {
      "text/plain": [
       "6"
      ]
     },
     "execution_count": 163,
     "metadata": {},
     "output_type": "execute_result"
    }
   ],
   "source": [
    "i"
   ]
  },
  {
   "cell_type": "code",
   "execution_count": 134,
   "metadata": {},
   "outputs": [
    {
     "name": "stdout",
     "output_type": "stream",
     "text": [
      "ok\n"
     ]
    }
   ],
   "source": [
    "if(c[0] == 0 & c[2] == 0):\n",
    "    print('ok')"
   ]
  },
  {
   "cell_type": "code",
   "execution_count": 164,
   "metadata": {},
   "outputs": [
    {
     "data": {
      "text/plain": [
       "6"
      ]
     },
     "execution_count": 164,
     "metadata": {},
     "output_type": "execute_result"
    }
   ],
   "source": [
    "i"
   ]
  },
  {
   "cell_type": "code",
   "execution_count": 165,
   "metadata": {},
   "outputs": [
    {
     "name": "stdout",
     "output_type": "stream",
     "text": [
      "2 steps\n",
      "c[i+2] 0\n",
      "2 steps\n",
      "c[i+2] 0\n"
     ]
    },
    {
     "ename": "IndexError",
     "evalue": "list index out of range",
     "output_type": "error",
     "traceback": [
      "\u001b[0;31m---------------------------------------------------------------------------\u001b[0m",
      "\u001b[0;31mIndexError\u001b[0m                                Traceback (most recent call last)",
      "\u001b[0;32m<ipython-input-165-93fdcc060d74>\u001b[0m in \u001b[0;36m<module>\u001b[0;34m\u001b[0m\n\u001b[1;32m      4\u001b[0m \u001b[0;34m\u001b[0m\u001b[0m\n\u001b[1;32m      5\u001b[0m     \u001b[0;32mif\u001b[0m\u001b[0;34m(\u001b[0m\u001b[0;34m(\u001b[0m\u001b[0mi\u001b[0m\u001b[0;34m+\u001b[0m\u001b[0;36m2\u001b[0m\u001b[0;34m)\u001b[0m \u001b[0;34m>\u001b[0m \u001b[0;34m(\u001b[0m\u001b[0mn\u001b[0m\u001b[0;34m-\u001b[0m\u001b[0;36m1\u001b[0m\u001b[0;34m)\u001b[0m\u001b[0;34m)\u001b[0m\u001b[0;34m:\u001b[0m\u001b[0;34m\u001b[0m\u001b[0;34m\u001b[0m\u001b[0m\n\u001b[0;32m----> 6\u001b[0;31m         \u001b[0;32mif\u001b[0m\u001b[0;34m(\u001b[0m\u001b[0mc\u001b[0m\u001b[0;34m[\u001b[0m\u001b[0mi\u001b[0m\u001b[0;34m]\u001b[0m \u001b[0;34m==\u001b[0m \u001b[0;36m0\u001b[0m \u001b[0;34m&\u001b[0m \u001b[0mc\u001b[0m\u001b[0;34m[\u001b[0m\u001b[0mi\u001b[0m\u001b[0;34m+\u001b[0m\u001b[0;36m1\u001b[0m\u001b[0;34m]\u001b[0m \u001b[0;34m==\u001b[0m \u001b[0;36m0\u001b[0m\u001b[0;34m)\u001b[0m\u001b[0;34m:\u001b[0m\u001b[0;34m\u001b[0m\u001b[0;34m\u001b[0m\u001b[0m\n\u001b[0m\u001b[1;32m      7\u001b[0m             \u001b[0mprint\u001b[0m\u001b[0;34m(\u001b[0m\u001b[0;34m'last step'\u001b[0m\u001b[0;34m)\u001b[0m\u001b[0;34m\u001b[0m\u001b[0;34m\u001b[0m\u001b[0m\n\u001b[1;32m      8\u001b[0m             \u001b[0mstep\u001b[0m \u001b[0;34m+=\u001b[0m \u001b[0;36m1\u001b[0m\u001b[0;34m\u001b[0m\u001b[0;34m\u001b[0m\u001b[0m\n",
      "\u001b[0;31mIndexError\u001b[0m: list index out of range"
     ]
    }
   ],
   "source": [
    "i = 0\n",
    "step = 0\n",
    "while(i != (n-1)):\n",
    "    \n",
    "    if((i+2) > (n-1)):\n",
    "        if(c[i] == 0 & c[i+1] == 0):\n",
    "            print('last step')\n",
    "            step += 1\n",
    "            print(\"c[i+1] 2\", c[i+1])\n",
    "            i = i+1\n",
    "        else:\n",
    "            i = i+1\n",
    "        \n",
    "        \n",
    "        \n",
    "    elif(c[i] == 0 & c[i+2] == 0):\n",
    "        print('2 steps')\n",
    "        step += 1\n",
    "        print(\"c[i+2]\", c[i+2])\n",
    "        i = i+2\n",
    "        \n",
    "        \n",
    "        \n",
    "    elif(c[i] == 0 & c[i+1] == 0):\n",
    "        print('1 step')\n",
    "        step += 1\n",
    "        print(\"c[i+1]\", c[i+1])\n",
    "        i = i+1\n",
    "        \n",
    "    i += 1"
   ]
  },
  {
   "cell_type": "code",
   "execution_count": 159,
   "metadata": {},
   "outputs": [
    {
     "data": {
      "text/plain": [
       "2"
      ]
     },
     "execution_count": 159,
     "metadata": {},
     "output_type": "execute_result"
    }
   ],
   "source": [
    "step"
   ]
  }
 ],
 "metadata": {
  "kernelspec": {
   "display_name": "Python 3",
   "language": "python",
   "name": "python3"
  },
  "language_info": {
   "codemirror_mode": {
    "name": "ipython",
    "version": 3
   },
   "file_extension": ".py",
   "mimetype": "text/x-python",
   "name": "python",
   "nbconvert_exporter": "python",
   "pygments_lexer": "ipython3",
   "version": "3.7.1"
  }
 },
 "nbformat": 4,
 "nbformat_minor": 2
}
