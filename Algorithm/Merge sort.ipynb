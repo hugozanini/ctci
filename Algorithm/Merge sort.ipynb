{
 "cells": [
  {
   "cell_type": "code",
   "execution_count": 10,
   "metadata": {},
   "outputs": [],
   "source": [
    "def mergeSort(myList):\n",
    "    if len(myList) > 1:\n",
    "        mid = len(myList)//2\n",
    "        left = myList[:mid]\n",
    "        right = myList[mid:]\n",
    "        \n",
    "        # Recursive call on each half\n",
    "        mergeSort(left)\n",
    "        mergeSort(right)\n",
    "        \n",
    "        # Two iterations for travelling the two halves\n",
    "        i=0\n",
    "        j=0\n",
    "        \n",
    "        # Iterator for the main list\n",
    "        k=0\n",
    "        \n",
    "        while(i < len(left) and j < len(right)):\n",
    "            if left[i] < right [j]:\n",
    "                myList[k] = left[i]\n",
    "                i+= 1\n",
    "            else:\n",
    "                myList[k] = right[j]\n",
    "                j+=1\n",
    "            k+=1\n",
    "            \n",
    "        \n",
    "        while i < len(left):\n",
    "            myList[k] = left[i]\n",
    "            i+= 1\n",
    "            k+= 1\n",
    "        while j<len(right):\n",
    "            myList[k] = right[j]\n",
    "            j+= 1\n",
    "            k+= 1"
   ]
  },
  {
   "cell_type": "code",
   "execution_count": 13,
   "metadata": {},
   "outputs": [],
   "source": [
    "myList = [1,4,6,2,0, 43, 32, 65, 88, 1, 34]\n",
    "mergeSort(myList)"
   ]
  },
  {
   "cell_type": "code",
   "execution_count": 14,
   "metadata": {},
   "outputs": [
    {
     "name": "stdout",
     "output_type": "stream",
     "text": [
      "[0, 1, 1, 2, 4, 6, 32, 34, 43, 65, 88]\n"
     ]
    }
   ],
   "source": [
    "print(myList)"
   ]
  }
 ],
 "metadata": {
  "kernelspec": {
   "display_name": "Python 3",
   "language": "python",
   "name": "python3"
  },
  "language_info": {
   "codemirror_mode": {
    "name": "ipython",
    "version": 3
   },
   "file_extension": ".py",
   "mimetype": "text/x-python",
   "name": "python",
   "nbconvert_exporter": "python",
   "pygments_lexer": "ipython3",
   "version": "3.7.1"
  }
 },
 "nbformat": 4,
 "nbformat_minor": 2
}
