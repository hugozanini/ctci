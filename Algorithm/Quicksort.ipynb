{
 "cells": [
  {
   "cell_type": "code",
   "execution_count": 1,
   "metadata": {},
   "outputs": [],
   "source": [
    "def partition(list, start, end):\n",
    "    pivot = list[end]\n",
    "    bottom = start - 1\n",
    "    top = end\n",
    "    done = 0\n",
    "    \n",
    "    while not done:\n",
    "        \n",
    "        while not done:\n",
    "            bottom = bottom + 1\n",
    "            \n",
    "            if bottom == top:\n",
    "                done = 1\n",
    "                break\n",
    "                \n",
    "            if list[bottom] > pivot:\n",
    "                list[top] = list[bottom]\n",
    "                break\n",
    "        \n",
    "        while not done:\n",
    "            top = top -1 \n",
    "            \n",
    "            if top == bottom:\n",
    "                done = 1\n",
    "                break\n",
    "            \n",
    "            if list[top] < pivot:\n",
    "                list[bottom] = list[top]\n",
    "                break\n",
    "    \n",
    "    list[top] = pivot\n",
    "    return top                "
   ]
  },
  {
   "cell_type": "code",
   "execution_count": 2,
   "metadata": {},
   "outputs": [],
   "source": [
    "def quicksort(list, start, end):\n",
    "    if start < end:\n",
    "        split = partition(list, start, end)\n",
    "        quicksort(list, start, split - 1)\n",
    "        quicksort(list, split + 1, end)\n",
    "    \n",
    "    else:\n",
    "        return"
   ]
  },
  {
   "cell_type": "code",
   "execution_count": 3,
   "metadata": {},
   "outputs": [],
   "source": [
    "myList = [5, 32, 53, 11, 8, 9, 2, 7, 22]"
   ]
  },
  {
   "cell_type": "code",
   "execution_count": 6,
   "metadata": {},
   "outputs": [],
   "source": [
    "quicksort(myList, 0, 8)"
   ]
  },
  {
   "cell_type": "code",
   "execution_count": 7,
   "metadata": {},
   "outputs": [
    {
     "name": "stdout",
     "output_type": "stream",
     "text": [
      "[2, 5, 7, 8, 9, 11, 22, 32, 53]\n"
     ]
    }
   ],
   "source": [
    "print(myList)"
   ]
  }
 ],
 "metadata": {
  "kernelspec": {
   "display_name": "Python 3",
   "language": "python",
   "name": "python3"
  },
  "language_info": {
   "codemirror_mode": {
    "name": "ipython",
    "version": 3
   },
   "file_extension": ".py",
   "mimetype": "text/x-python",
   "name": "python",
   "nbconvert_exporter": "python",
   "pygments_lexer": "ipython3",
   "version": "3.7.1"
  }
 },
 "nbformat": 4,
 "nbformat_minor": 2
}
