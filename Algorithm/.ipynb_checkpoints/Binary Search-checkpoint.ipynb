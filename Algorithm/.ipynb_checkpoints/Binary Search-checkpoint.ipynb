{
 "cells": [
  {
   "cell_type": "markdown",
   "metadata": {},
   "source": [
    "# Binary Search"
   ]
  },
  {
   "cell_type": "markdown",
   "metadata": {},
   "source": [
    "In binary search we take a **sorted list of elements and start looking for an element at the middle of the list**. If the search value matches with the middle value in the list we complete the search. We use the strategie of divide and conquer"
   ]
  },
  {
   "cell_type": "code",
   "execution_count": 3,
   "metadata": {},
   "outputs": [
    {
     "data": {
      "text/plain": [
       "4.0"
      ]
     },
     "execution_count": 3,
     "metadata": {},
     "output_type": "execute_result"
    }
   ],
   "source": [
    "8/2"
   ]
  },
  {
   "cell_type": "code",
   "execution_count": 4,
   "metadata": {},
   "outputs": [
    {
     "data": {
      "text/plain": [
       "4"
      ]
     },
     "execution_count": 4,
     "metadata": {},
     "output_type": "execute_result"
    }
   ],
   "source": [
    "8//2"
   ]
  },
  {
   "cell_type": "code",
   "execution_count": 55,
   "metadata": {},
   "outputs": [],
   "source": [
    "def bsearch(list, val):\n",
    "    list_size = len(list) - 1\n",
    "    \n",
    "    idx0 = 0\n",
    "    idxn = list_size\n",
    "    \n",
    "    # Start with the middle\n",
    "    while idx0 <= idxn:\n",
    "        midval = (idx0 + idxn)//2\n",
    "        \n",
    "        # Return the indice\n",
    "        if list[midval] == val:\n",
    "            return midval\n",
    "        \n",
    "        #Compare the middle value\n",
    "        if val > list[midval]:\n",
    "            idx0 = midval + 1\n",
    "        else:\n",
    "            idxn = midval - 1\n",
    "        \n",
    "        if idx0 > idxn:\n",
    "            return None"
   ]
  },
  {
   "cell_type": "code",
   "execution_count": 57,
   "metadata": {},
   "outputs": [
    {
     "name": "stdout",
     "output_type": "stream",
     "text": [
      "2\n"
     ]
    }
   ],
   "source": [
    "list = [8,11,24,56,88,131]\n",
    "print(bsearch(list, 24))\n"
   ]
  },
  {
   "cell_type": "markdown",
   "metadata": {},
   "source": [
    "# Binary Search with recursion"
   ]
  },
  {
   "cell_type": "code",
   "execution_count": 16,
   "metadata": {},
   "outputs": [],
   "source": [
    "def bsearch(list, idx0, idxn, val):\n",
    "    if(idxn < idx0):\n",
    "        return None\n",
    "    else:\n",
    "        midval = idx0 + ((idxn - idx0)//2)\n",
    "        \n",
    "    if list[midval]> val:\n",
    "        return bsearch(list, idx0, midval-1, val)\n",
    "    elif list[midval]<val:\n",
    "        return bsearch(list, midval+1, idxn, val)\n",
    "    else:\n",
    "        return midval"
   ]
  },
  {
   "cell_type": "code",
   "execution_count": 17,
   "metadata": {},
   "outputs": [
    {
     "name": "stdout",
     "output_type": "stream",
     "text": [
      "2\n",
      "None\n"
     ]
    }
   ],
   "source": [
    "list = [8,11,24,56,88,131]\n",
    "print(bsearch(list, 0, 5, 24))\n",
    "print(bsearch(list, 0, 5, 51))"
   ]
  },
  {
   "cell_type": "code",
   "execution_count": null,
   "metadata": {},
   "outputs": [],
   "source": []
  }
 ],
 "metadata": {
  "kernelspec": {
   "display_name": "Python 3",
   "language": "python",
   "name": "python3"
  },
  "language_info": {
   "codemirror_mode": {
    "name": "ipython",
    "version": 3
   },
   "file_extension": ".py",
   "mimetype": "text/x-python",
   "name": "python",
   "nbconvert_exporter": "python",
   "pygments_lexer": "ipython3",
   "version": "3.7.1"
  }
 },
 "nbformat": 4,
 "nbformat_minor": 2
}
