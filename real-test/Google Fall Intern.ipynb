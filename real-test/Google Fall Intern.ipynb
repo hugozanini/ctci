{
 "cells": [
  {
   "cell_type": "code",
   "execution_count": null,
   "metadata": {},
   "outputs": [],
   "source": [
    "import collections"
   ]
  },
  {
   "cell_type": "code",
   "execution_count": 1,
   "metadata": {},
   "outputs": [],
   "source": [
    "A = \"abcd aabc bd\"\n",
    "B = \"abcaaa aa\""
   ]
  },
  {
   "cell_type": "code",
   "execution_count": 40,
   "metadata": {},
   "outputs": [],
   "source": [
    "B_strings = B.split(' ')\n",
    "A_strings = A.split(' ')"
   ]
  },
  {
   "cell_type": "code",
   "execution_count": 55,
   "metadata": {},
   "outputs": [],
   "source": [
    "C = [0]* len(B_strings)"
   ]
  },
  {
   "cell_type": "code",
   "execution_count": 58,
   "metadata": {},
   "outputs": [],
   "source": [
    "for i in range(0, len(B_strings)):\n",
    "    # Selecting element\n",
    "    B_compare = B_strings[i]\n",
    "    \n",
    "    # Defining element size\n",
    "    B_compare = list(B_strings[i])\n",
    "    B_compare_val = []\n",
    "    for char in B_compare:\n",
    "        B_compare_val.append(ord(char))\n",
    "\n",
    "    B_size = B_compare_val.count(min(B_compare_val))\n",
    "    \n",
    "    for j in range(0, len(A_strings)):\n",
    "        # Defining element size\n",
    "        A_compare = list(A_strings[j])\n",
    "        A_compare_val = []\n",
    "        for char in A_compare:\n",
    "            A_compare_val.append(ord(char))\n",
    "\n",
    "        A_size = A_compare_val.count(min(A_compare_val))\n",
    "\n",
    "        if(A_size < B_size):\n",
    "            C[i] = C[i] + 1"
   ]
  },
  {
   "cell_type": "code",
   "execution_count": 59,
   "metadata": {},
   "outputs": [
    {
     "data": {
      "text/plain": [
       "[3, 2]"
      ]
     },
     "execution_count": 59,
     "metadata": {},
     "output_type": "execute_result"
    }
   ],
   "source": [
    "C"
   ]
  },
  {
   "cell_type": "markdown",
   "metadata": {},
   "source": [
    "# Solution 1"
   ]
  },
  {
   "cell_type": "code",
   "execution_count": 60,
   "metadata": {},
   "outputs": [],
   "source": [
    "def solution(A, B):\n",
    "    import collections\n",
    "    \n",
    "    B_strings = B.split(' ')\n",
    "    A_strings = A.split(' ')\n",
    "    \n",
    "    C = [0]* len(B_strings)\n",
    "    \n",
    "    for i in range(0, len(B_strings)):\n",
    "        # Selecting element\n",
    "        B_compare = B_strings[i]\n",
    "\n",
    "        # Defining element size\n",
    "        B_compare = list(B_strings[i])\n",
    "        B_compare_val = []\n",
    "        for char in B_compare:\n",
    "            B_compare_val.append(ord(char))\n",
    "\n",
    "        B_size = B_compare_val.count(min(B_compare_val))\n",
    "    \n",
    "        for j in range(0, len(A_strings)):\n",
    "            # Defining element size\n",
    "            A_compare = list(A_strings[j])\n",
    "            A_compare_val = []\n",
    "            for char in A_compare:\n",
    "                A_compare_val.append(ord(char))\n",
    "\n",
    "            A_size = A_compare_val.count(min(A_compare_val))\n",
    "\n",
    "            if(A_size < B_size):\n",
    "                C[i] = C[i] + 1\n",
    "    return C"
   ]
  },
  {
   "cell_type": "code",
   "execution_count": 62,
   "metadata": {},
   "outputs": [
    {
     "data": {
      "text/plain": [
       "[3, 2]"
      ]
     },
     "execution_count": 62,
     "metadata": {},
     "output_type": "execute_result"
    }
   ],
   "source": [
    "solution(A, B)"
   ]
  },
  {
   "cell_type": "markdown",
   "metadata": {},
   "source": [
    "# Solution 2"
   ]
  },
  {
   "cell_type": "code",
   "execution_count": 125,
   "metadata": {},
   "outputs": [],
   "source": [
    "A = [1, 4, 3, 2, 5]\n",
    "K = 4"
   ]
  },
  {
   "cell_type": "code",
   "execution_count": 126,
   "metadata": {},
   "outputs": [],
   "source": [
    "contiguous_size = len(A) - (K-1)"
   ]
  },
  {
   "cell_type": "code",
   "execution_count": 127,
   "metadata": {},
   "outputs": [
    {
     "data": {
      "text/plain": [
       "2"
      ]
     },
     "execution_count": 127,
     "metadata": {},
     "output_type": "execute_result"
    }
   ],
   "source": [
    "contiguous_size"
   ]
  },
  {
   "cell_type": "code",
   "execution_count": 128,
   "metadata": {},
   "outputs": [],
   "source": [
    "contiguous_vect = [0]*contiguous_size"
   ]
  },
  {
   "cell_type": "code",
   "execution_count": 129,
   "metadata": {},
   "outputs": [
    {
     "data": {
      "text/plain": [
       "[0, 0]"
      ]
     },
     "execution_count": 129,
     "metadata": {},
     "output_type": "execute_result"
    }
   ],
   "source": [
    "contiguous_vect"
   ]
  },
  {
   "cell_type": "code",
   "execution_count": 130,
   "metadata": {},
   "outputs": [],
   "source": [
    "for i in range(0,contiguous_size):\n",
    "    contiguous_vect[i] = A[i:i+K]"
   ]
  },
  {
   "cell_type": "code",
   "execution_count": 131,
   "metadata": {},
   "outputs": [
    {
     "data": {
      "text/plain": [
       "[[1, 4, 3, 2], [4, 3, 2, 5]]"
      ]
     },
     "execution_count": 131,
     "metadata": {},
     "output_type": "execute_result"
    }
   ],
   "source": [
    "contiguous_vect"
   ]
  },
  {
   "cell_type": "code",
   "execution_count": 132,
   "metadata": {},
   "outputs": [],
   "source": [
    "init_ind = 0\n",
    "max_ind = len(contiguous_vect)"
   ]
  },
  {
   "cell_type": "code",
   "execution_count": 116,
   "metadata": {},
   "outputs": [],
   "source": [
    "a = contiguous_vect[0]\n",
    "b = contiguous_vect[1]"
   ]
  },
  {
   "cell_type": "code",
   "execution_count": 133,
   "metadata": {},
   "outputs": [],
   "source": [
    "max_vect = contiguous_vect[0]\n",
    "len_vect = len(contiguous_vect[0])"
   ]
  },
  {
   "cell_type": "code",
   "execution_count": 134,
   "metadata": {},
   "outputs": [
    {
     "name": "stdout",
     "output_type": "stream",
     "text": [
      "i:  1\n",
      "comp: [4, 3, 2, 5]\n",
      "j: 0\n",
      "max: [4, 3, 2, 5]\n"
     ]
    }
   ],
   "source": [
    "for i in range(1, contiguous_size):\n",
    "    comp = contiguous_vect[i]\n",
    "    print('i: ',i)\n",
    "    print('comp:', comp)\n",
    "    j = 0\n",
    "    for j in range(0,len_vect):\n",
    "        \n",
    "        if(max_vect[j] < comp[j]):\n",
    "            max_vect = contiguous_vect[i]\n",
    "            print('j:', j)\n",
    "            print('max:', max_vect)\n",
    "            break\n",
    "        else:\n",
    "            break\n",
    "            "
   ]
  },
  {
   "cell_type": "code",
   "execution_count": 135,
   "metadata": {},
   "outputs": [
    {
     "data": {
      "text/plain": [
       "[4, 3, 2, 5]"
      ]
     },
     "execution_count": 135,
     "metadata": {},
     "output_type": "execute_result"
    }
   ],
   "source": [
    "max_vect"
   ]
  },
  {
   "cell_type": "code",
   "execution_count": 136,
   "metadata": {},
   "outputs": [],
   "source": [
    "def solution(A, K):\n",
    "    contiguous_size = len(A) - (K-1)\n",
    "    contiguous_vect = [0]*contiguous_size\n",
    "    \n",
    "    for i in range(0,contiguous_size):\n",
    "        contiguous_vect[i] = A[i:i+K]\n",
    "        \n",
    "    max_vect = contiguous_vect[0]\n",
    "    len_vect = len(contiguous_vect[0])\n",
    "    \n",
    "    \n",
    "    for i in range(1, contiguous_size):\n",
    "        comp = contiguous_vect[i]\n",
    "        j = 0\n",
    "        for j in range(0,len_vect):\n",
    "\n",
    "            if(max_vect[j] < comp[j]):\n",
    "                max_vect = contiguous_vect[i]\n",
    "                break\n",
    "            else:\n",
    "                break\n",
    "                \n",
    "    return max_vect    "
   ]
  },
  {
   "cell_type": "code",
   "execution_count": 139,
   "metadata": {},
   "outputs": [
    {
     "data": {
      "text/plain": [
       "[4, 3, 2, 5]"
      ]
     },
     "execution_count": 139,
     "metadata": {},
     "output_type": "execute_result"
    }
   ],
   "source": [
    "solution(A, 4)"
   ]
  },
  {
   "cell_type": "code",
   "execution_count": 99,
   "metadata": {},
   "outputs": [],
   "source": [
    "for i in range(0, len(a)):\n",
    "    \n",
    "    for j in contiguous_size:\n",
    "        \n",
    "    \n",
    "    if a[i] != b[i]:\n",
    "        if(a[i] > b[i]):\n",
    "            max_vect = a\n",
    "        else:\n",
    "            max_vect = b"
   ]
  },
  {
   "cell_type": "code",
   "execution_count": 100,
   "metadata": {},
   "outputs": [
    {
     "data": {
      "text/plain": [
       "[1, 4]"
      ]
     },
     "execution_count": 100,
     "metadata": {},
     "output_type": "execute_result"
    }
   ],
   "source": [
    "max_vect"
   ]
  },
  {
   "cell_type": "code",
   "execution_count": null,
   "metadata": {},
   "outputs": [],
   "source": []
  }
 ],
 "metadata": {
  "kernelspec": {
   "display_name": "Python 3",
   "language": "python",
   "name": "python3"
  },
  "language_info": {
   "codemirror_mode": {
    "name": "ipython",
    "version": 3
   },
   "file_extension": ".py",
   "mimetype": "text/x-python",
   "name": "python",
   "nbconvert_exporter": "python",
   "pygments_lexer": "ipython3",
   "version": "3.7.1"
  }
 },
 "nbformat": 4,
 "nbformat_minor": 2
}
